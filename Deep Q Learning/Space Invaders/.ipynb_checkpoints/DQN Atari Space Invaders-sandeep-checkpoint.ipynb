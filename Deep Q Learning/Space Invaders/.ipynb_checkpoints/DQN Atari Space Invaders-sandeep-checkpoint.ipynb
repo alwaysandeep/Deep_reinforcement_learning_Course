{
 "cells": [
  {
   "cell_type": "markdown",
   "metadata": {},
   "source": [
    "# Deep Q Learning with Atari© Space Invaders© 🕹️👾"
   ]
  },
  {
   "cell_type": "markdown",
   "metadata": {},
   "source": [
    "In this notebook we'll implement an agent **that learns to play Atari© Space Invaders© using OpenAI retro as environment library.**\n",
    "\n",
    "Our agent after 2 hours of training (as you can see it needs much more, but **for educational purposes we can see that's a good beginning**)\n",
    "\n",
    "<img src=\"https://raw.githubusercontent.com/simoninithomas/Deep_reinforcement_learning_Course/master/Deep%20Q%20Learning/Space%20Invaders/assets/spaceinvaders.gif\" alt=\"Space invaders dqn\"/>\n",
    "\n"
   ]
  },
  {
   "cell_type": "markdown",
   "metadata": {
    "jupyter": {
     "source_hidden": true
    }
   },
   "source": [
    "# This is a notebook from [Deep Reinforcement Learning Course with Tensorflow](https://simoninithomas.github.io/Deep_reinforcement_learning_Course/)\n",
    "<img src=\"https://raw.githubusercontent.com/simoninithomas/Deep_reinforcement_learning_Course/master/docs/assets/img/DRLC%20Environments.png\" alt=\"Deep Reinforcement Course\"/>\n",
    "<br>\n",
    "<p>  Deep Reinforcement Learning Course is a free series of articles and videos tutorials 🆕 about Deep Reinforcement Learning, where **we'll learn the main algorithms (Q-learning, Deep Q Nets, Dueling Deep Q Nets, Policy Gradients, A2C, Proximal Policy Gradients…), and how to implement them with Tensorflow.**\n",
    "<br><br>\n",
    "    \n",
    "📜The articles explain the architectures from the big picture to the mathematical details behind them.\n",
    "<br>\n",
    "📹 The videos explain how to build the agents with Tensorflow </b></p>\n",
    "<br>\n",
    "This course will give you a **solid foundation for understanding and implementing the future state of the art algorithms**. And, you'll build a strong professional portfolio by creating **agents that learn to play awesome environments**: Doom© 👹, Space invaders 👾, Outrun, Sonic the Hedgehog©, Michael Jackson’s Moonwalker, agents that will be able to navigate in 3D environments with DeepMindLab (Quake) and able to walk with Mujoco. \n",
    "<br><br>\n",
    "</p> \n",
    "\n",
    "## 📚 The complete [Syllabus HERE](https://simoninithomas.github.io/Deep_reinforcement_learning_Course/)\n",
    "\n",
    "\n",
    "## Any questions 👨‍💻\n",
    "<p> If you have any questions, feel free to ask me: </p>\n",
    "<p> 📧: <a href=\"mailto:hello@simoninithomas.com\">hello@simoninithomas.com</a>  </p>\n",
    "<p> Github: https://github.com/simoninithomas/Deep_reinforcement_learning_Course </p>\n",
    "<p> 🌐 : https://simoninithomas.github.io/Deep_reinforcement_learning_Course/ </p>\n",
    "<p> Twitter: <a href=\"https://twitter.com/ThomasSimonini\">@ThomasSimonini</a> </p>\n",
    "<p> Don't forget to <b> follow me on <a href=\"https://twitter.com/ThomasSimonini\">twitter</a>, <a href=\"https://github.com/simoninithomas/Deep_reinforcement_learning_Course\">github</a> and <a href=\"https://medium.com/@thomassimonini\">Medium</a> to be alerted of the new articles that I publish </b></p>\n",
    "    \n",
    "## How to help  🙌\n",
    "3 ways:\n",
    "- **Clap our articles and like our videos a lot**:Clapping in Medium means that you really like our articles. And the more claps we have, the more our article is shared Liking our videos help them to be much more visible to the deep learning community.\n",
    "- **Share and speak about our articles and videos**: By sharing our articles and videos you help us to spread the word. \n",
    "- **Improve our notebooks**: if you found a bug or **a better implementation** you can send a pull request.\n",
    "<br>\n",
    "\n",
    "## Important note 🤔\n",
    "<b> You can run it on your computer but it's better to run it on GPU based services</b>, personally I use Microsoft Azure and their Deep Learning Virtual Machine (they offer 170$)\n",
    "https://azuremarketplace.microsoft.com/en-us/marketplace/apps/microsoft-ads.dsvm-deep-learning\n",
    "<br>\n",
    "⚠️ I don't have any business relations with them. I just loved their excellent customer service.\n",
    "\n",
    "If you have some troubles to use Microsoft Azure follow the explainations of this excellent article here (without last the part fast.ai): https://medium.com/@manikantayadunanda/setting-up-deeplearning-machine-and-fast-ai-on-azure-a22eb6bd6429"
   ]
  },
  {
   "cell_type": "markdown",
   "metadata": {
    "jupyter": {
     "source_hidden": true
    }
   },
   "source": [
    "## Prerequisites 🏗️\n",
    "Before diving on the notebook **you need to understand**:\n",
    "- The foundations of Reinforcement learning (MC, TD, Rewards hypothesis...) [Article](https://medium.freecodecamp.org/an-introduction-to-reinforcement-learning-4339519de419)\n",
    "- Q-learning [Article](https://medium.freecodecamp.org/diving-deeper-into-reinforcement-learning-with-q-learning-c18d0db58efe)\n",
    "- Deep Q-Learning [Article](https://medium.freecodecamp.org/an-introduction-to-deep-q-learning-lets-play-doom-54d02d8017d8)\n",
    "- In the [video version](https://www.youtube.com/watch?v=gCJyVX98KJ4)  we implemented a Deep Q-learning agent with Tensorflow that learns to play Atari Space Invaders 🕹️👾."
   ]
  },
  {
   "cell_type": "code",
   "execution_count": 1,
   "metadata": {
    "collapsed": true,
    "jupyter": {
     "outputs_hidden": true,
     "source_hidden": true
    }
   },
   "outputs": [
    {
     "name": "stderr",
     "output_type": "stream",
     "text": [
      "/usr/local/lib/python3.6/dist-packages/IPython/core/display.py:694: UserWarning: Consider using IPython.display.IFrame instead\n",
      "  warnings.warn(\"Consider using IPython.display.IFrame instead\")\n"
     ]
    },
    {
     "data": {
      "text/html": [
       "<iframe width=\"560\" height=\"315\" src=\"https://www.youtube.com/embed/gCJyVX98KJ4?showinfo=0\" frameborder=\"0\" allow=\"autoplay; encrypted-media\" allowfullscreen></iframe>"
      ],
      "text/plain": [
       "<IPython.core.display.HTML object>"
      ]
     },
     "execution_count": 1,
     "metadata": {},
     "output_type": "execute_result"
    }
   ],
   "source": [
    "from IPython.display import HTML\n",
    "HTML('<iframe width=\"560\" height=\"315\" src=\"https://www.youtube.com/embed/gCJyVX98KJ4?showinfo=0\" frameborder=\"0\" allow=\"autoplay; encrypted-media\" allowfullscreen></iframe>')"
   ]
  },
  {
   "cell_type": "markdown",
   "metadata": {
    "jupyter": {
     "source_hidden": true
    }
   },
   "source": [
    "## Step 1: Import the libraries 📚"
   ]
  },
  {
   "cell_type": "code",
   "execution_count": 83,
   "metadata": {},
   "outputs": [
    {
     "name": "stdout",
     "output_type": "stream",
     "text": [
      "The tensorboard extension is already loaded. To reload it, use:\n",
      "  %reload_ext tensorboard\n"
     ]
    }
   ],
   "source": [
    "from __future__ import absolute_import\n",
    "from __future__ import division\n",
    "from __future__ import print_function\n",
    "import tensorflow as tf      # Deep Learning library\n",
    "import numpy as np           # Handle matrices\n",
    "import gym#retro                 # Retro Environment\n",
    "from PIL import Image\n",
    "\n",
    "from datetime import datetime\n",
    "#from packaging import version\n",
    "from skimage import transform # Help us to preprocess the frames\n",
    "from skimage.color import rgb2gray # Help us to gray our frames\n",
    "\n",
    "import matplotlib.pyplot as plt # Display graphs\n",
    "\n",
    "from collections import deque# Ordered collection with ends\n",
    "\n",
    "import random\n",
    "\n",
    "# Load the TensorBoard notebook extension.\n",
    "%load_ext tensorboard\n",
    "import warnings # This ignore all the warning messages that are normally printed during the training because of skiimage\n",
    "warnings.filterwarnings('ignore') \n"
   ]
  },
  {
   "cell_type": "markdown",
   "metadata": {
    "jupyter": {
     "source_hidden": true
    }
   },
   "source": [
    "## Step 2: Create our environment 🎮\n",
    "This time we use **OpenAI Retro**, a wrapper for video game emulator cores using the Libretro API to turn them into Gym environments.\n",
    "\n",
    "<img src=\"http://cdn-static.denofgeek.com/sites/denofgeek/files/styles/main_wide/public/mega-drive-main.jpg?itok=aj_clOZT\" style=\"max-width:50%\" alt=\"Sega\" /><p><i>Source: Denofgeek </i></p>"
   ]
  },
  {
   "cell_type": "markdown",
   "metadata": {
    "jupyter": {
     "source_hidden": true
    }
   },
   "source": [
    "### Our environment\n",
    "Our Environment is the famous game Atari Space Invaders.\n"
   ]
  },
  {
   "cell_type": "code",
   "execution_count": 84,
   "metadata": {},
   "outputs": [],
   "source": [
    "env = gym.make('SpaceInvaders-v0')\n"
   ]
  },
  {
   "cell_type": "code",
   "execution_count": 85,
   "metadata": {},
   "outputs": [],
   "source": [
    "abc = env.reset()"
   ]
  },
  {
   "cell_type": "code",
   "execution_count": 86,
   "metadata": {},
   "outputs": [
    {
     "data": {
      "text/plain": [
       "(210, 160, 3)"
      ]
     },
     "execution_count": 86,
     "metadata": {},
     "output_type": "execute_result"
    }
   ],
   "source": [
    "abc.shape"
   ]
  },
  {
   "cell_type": "code",
   "execution_count": 87,
   "metadata": {},
   "outputs": [
    {
     "data": {
      "text/plain": [
       "{0, 1, 2, 3, 4, 5}"
      ]
     },
     "execution_count": 87,
     "metadata": {},
     "output_type": "execute_result"
    }
   ],
   "source": [
    "set([env.action_space.sample() for i in range(1000)])"
   ]
  },
  {
   "cell_type": "raw",
   "metadata": {},
   "source": [
    "! python -m  pip install gym[atari]\n",
    "\n",
    "\n",
    "d = deque('ghi') \n",
    "\n",
    "d.pop()\n",
    "\n",
    "d\n",
    "\n",
    "d.extend('jkl') \n",
    "\n",
    "d.extend('jkl')   \n",
    "\n",
    "d\n",
    "\n",
    "d.rotate(1)\n",
    "\n",
    "d\n",
    "\n",
    "d.rotate(-1)\n",
    "\n",
    "d"
   ]
  },
  {
   "cell_type": "code",
   "execution_count": 88,
   "metadata": {},
   "outputs": [
    {
     "name": "stdout",
     "output_type": "stream",
     "text": [
      "The size of our frame is:  Box(210, 160, 3)\n",
      "The action size is :  6\n"
     ]
    }
   ],
   "source": [
    "\n",
    "print(\"The size of our frame is: \", env.observation_space)\n",
    "print(\"The action size is : \", env.action_space.n)\n",
    "\n",
    "# Here we create an hot encoded version of our actions\n",
    "# possible_actions = [[1, 0, 0, 0, 0, 0, 0, 0], [0, 1, 0, 0, 0, 0, 0, 0, 0]...]\n",
    "#possible_actions = np.array(np.identity(env.action_space.n,dtype=int).tolist())"
   ]
  },
  {
   "cell_type": "code",
   "execution_count": 89,
   "metadata": {},
   "outputs": [
    {
     "name": "stdout",
     "output_type": "stream",
     "text": [
      "(-inf, inf)\n"
     ]
    }
   ],
   "source": [
    "print(env.reward_range)\n",
    "\n",
    "#print(env.observation_space.high)\n",
    "\n",
    "#print(env.observation_space.low)"
   ]
  },
  {
   "cell_type": "code",
   "execution_count": 90,
   "metadata": {},
   "outputs": [],
   "source": [
    "possible_actions = list(set([env.action_space.sample() for i in range(1000)]))"
   ]
  },
  {
   "cell_type": "code",
   "execution_count": 91,
   "metadata": {},
   "outputs": [
    {
     "data": {
      "text/plain": [
       "[0, 1, 2, 3, 4, 5]"
      ]
     },
     "execution_count": 91,
     "metadata": {},
     "output_type": "execute_result"
    }
   ],
   "source": [
    "possible_actions"
   ]
  },
  {
   "cell_type": "raw",
   "metadata": {},
   "source": [
    "env.close()"
   ]
  },
  {
   "cell_type": "raw",
   "metadata": {},
   "source": [
    "env = retro.make(game='Airstriker-Genesis')\n",
    "obs = env.reset()\n",
    "while True:\n",
    "    obs, rew, done, info = env.step(env.action_space.sample())\n",
    "    #env.render()\n",
    "    print(reward)\n",
    "    if done:\n",
    "        obs = env.reset()\n",
    "env.close()"
   ]
  },
  {
   "cell_type": "markdown",
   "metadata": {},
   "source": [
    "## Step 3 : Define the preprocessing functions ⚙️\n",
    "### preprocess_frame\n",
    "Preprocessing is an important step, <b>because we want to reduce the complexity of our states to reduce the computation time needed for training.</b>\n",
    "<br><br>\n",
    "Our steps:\n",
    "- Grayscale each of our frames (because <b> color does not add important information </b>).\n",
    "- Crop the screen (in our case we remove the part below the player because it does not add any useful information)\n",
    "- We normalize pixel values\n",
    "- Finally we resize the preprocessed frame"
   ]
  },
  {
   "cell_type": "raw",
   "metadata": {},
   "source": [
    "\n",
    "\n",
    "original = obs\n",
    "grayscale = rgb2gray(obs)\n",
    "\n",
    "fig, axes = plt.subplots(1, 2, figsize=(8, 4))\n",
    "ax = axes.ravel()\n",
    "\n",
    "ax[0].imshow(original)\n",
    "ax[0].set_title(\"Original\")\n",
    "ax[1].imshow(grayscale, cmap=plt.cm.gray)\n",
    "ax[1].set_title(\"Grayscale\")\n",
    "\n",
    "fig.tight_layout()\n",
    "plt.show()\n"
   ]
  },
  {
   "cell_type": "code",
   "execution_count": 92,
   "metadata": {},
   "outputs": [],
   "source": [
    "\"\"\"\n",
    "    preprocess_frame:\n",
    "    Take a frame.\n",
    "    Grayscale it\n",
    "    Resize it.\n",
    "        __________________\n",
    "        |                 |\n",
    "        |                 |\n",
    "        |                 |\n",
    "        |                 |\n",
    "        |_________________|\n",
    "        \n",
    "        to\n",
    "        _____________\n",
    "        |            |\n",
    "        |            |\n",
    "        |            |\n",
    "        |____________|\n",
    "    Normalize it.\n",
    "    \n",
    "    return preprocessed_frame\n",
    "    \n",
    "    \"\"\"\n",
    "\n",
    "def preprocess_frame(frame,resize_shape):\n",
    "    frame = Image.fromarray(frame)\n",
    "    w,h= frame.size\n",
    "    upper_y,lower_y,left_x,right_x=.1*h,.88*h,.05*w,.8*w\n",
    "    left=left_x; upper = upper_y; right = right_x; lower= lower_y\n",
    "    frame_cropped=frame.crop(box=(left,upper,right,lower))\n",
    "    frame_cropped = frame_cropped.resize(resize_shape)\n",
    "    frame_cropped=np.array(frame_cropped)\n",
    "    frame_cropped=frame_cropped/255.\n",
    "    grey = rgb2gray(frame_cropped)\n",
    "    return(grey)\n",
    "    "
   ]
  },
  {
   "cell_type": "code",
   "execution_count": 93,
   "metadata": {},
   "outputs": [],
   "source": [
    "state = env.reset()\n",
    "processed_obs = preprocess_frame(state,((state_size[1],state_size[0])))"
   ]
  },
  {
   "cell_type": "code",
   "execution_count": 94,
   "metadata": {},
   "outputs": [
    {
     "data": {
      "text/plain": [
       "(110, 84)"
      ]
     },
     "execution_count": 94,
     "metadata": {},
     "output_type": "execute_result"
    }
   ],
   "source": [
    "processed_obs.shape"
   ]
  },
  {
   "cell_type": "code",
   "execution_count": 95,
   "metadata": {},
   "outputs": [
    {
     "data": {
      "image/png": "[encoded data removed]",
      "text/plain": [
       "<Figure size 576x288 with 2 Axes>"
      ]
     },
     "metadata": {
      "needs_background": "light"
     },
     "output_type": "display_data"
    }
   ],
   "source": [
    "\n",
    "\n",
    "original = state\n",
    "grayscale = rgb2gray(state)\n",
    "\n",
    "fig, axes = plt.subplots(1, 2, figsize=(8, 4))\n",
    "ax = axes.ravel()\n",
    "\n",
    "ax[0].imshow(original)\n",
    "ax[0].set_title(\"Original\")\n",
    "ax[1].imshow(processed_obs, cmap=plt.cm.gray)\n",
    "ax[1].set_title(\"Grayscale\")\n",
    "\n",
    "fig.tight_layout()\n",
    "plt.show()\n"
   ]
  },
  {
   "cell_type": "markdown",
   "metadata": {},
   "source": [
    "### stack_frames\n",
    "As explained in this really <a href=\"https://danieltakeshi.github.io/2016/11/25/frame-skipping-and-preprocessing-for-deep-q-networks-on-atari-2600-games/\">  good article </a> we stack frames.\n",
    "\n",
    "Stacking frames is really important because it helps us to **give have a sense of motion to our Neural Network.**\n",
    "\n",
    "BUT, **we don't stack each frames, we skip 4 frames at each timestep**. This means that only every fourth frame is considered. And then, we use this frame to form the stack_frame.\n",
    "\n",
    "**The frame skipping method is already implemented in the library.**\n",
    "\n",
    "- First we preprocess frame\n",
    "- Then we append the frame to the deque that automatically **removes the oldest frame**\n",
    "- Finally we **build the stacked state**\n",
    "\n",
    "This is how work stack:\n",
    "- For the first frame, we feed 4 frames\n",
    "- At each timestep, **we add the new frame to deque and then we stack them to form a new stacked frame**\n",
    "- And so on\n",
    "<img src=\"https://github.com/simoninithomas/Deep_reinforcement_learning_Course/blob/master/Deep%20Q%20Learning/Space%20Invaders/assets/stack_frames.png\" />\n",
    "- If we're done, **we create a new stack with 4 new frames (because we are in a new episode)**."
   ]
  },
  {
   "cell_type": "code",
   "execution_count": 96,
   "metadata": {},
   "outputs": [],
   "source": [
    "def stack_frames(frame,stack_frame_deque,initial=False):\n",
    "    global state_size\n",
    "    resize_shape = (state_size[1],state_size[0])\n",
    "    frame = preprocess_frame(frame,resize_shape)\n",
    "    if initial:\n",
    "        [stack_frame_deque.append(frame) for i in range(state_size[2])]\n",
    "    else:\n",
    "        stack_frame_deque.append(frame)\n",
    "    stacked_frame = np.stack(stack_frame_deque,axis=2)\n",
    "    return(stacked_frame,stack_frame_deque)"
   ]
  },
  {
   "cell_type": "code",
   "execution_count": 97,
   "metadata": {},
   "outputs": [],
   "source": [
    "stack_frame_deque = deque(maxlen=state_size[2])\n"
   ]
  },
  {
   "cell_type": "code",
   "execution_count": null,
   "metadata": {},
   "outputs": [],
   "source": []
  },
  {
   "cell_type": "code",
   "execution_count": 99,
   "metadata": {
    "scrolled": true
   },
   "outputs": [],
   "source": [
    "stacked_frame,stack_frame_deque = stack_frames(state,stack_frame_deque,initial=True)"
   ]
  },
  {
   "cell_type": "code",
   "execution_count": 100,
   "metadata": {},
   "outputs": [
    {
     "data": {
      "text/plain": [
       "(110, 84, 4)"
      ]
     },
     "execution_count": 100,
     "metadata": {},
     "output_type": "execute_result"
    }
   ],
   "source": [
    "stacked_frame.shape"
   ]
  },
  {
   "cell_type": "code",
   "execution_count": 101,
   "metadata": {},
   "outputs": [
    {
     "ename": "NameError",
     "evalue": "name 'obs' is not defined",
     "output_type": "error",
     "traceback": [
      "\u001b[0;31m\u001b[0m",
      "\u001b[0;31mNameError\u001b[0mTraceback (most recent call last)",
      "\u001b[0;32m<ipython-input-101-0ef8329f6188>\u001b[0m in \u001b[0;36m<module>\u001b[0;34m\u001b[0m\n\u001b[0;32m----> 1\u001b[0;31m \u001b[0mobs\u001b[0m\u001b[0;34m.\u001b[0m\u001b[0mmax\u001b[0m\u001b[0;34m(\u001b[0m\u001b[0;34m)\u001b[0m\u001b[0;34m,\u001b[0m\u001b[0mstacked_frame\u001b[0m\u001b[0;34m.\u001b[0m\u001b[0mmax\u001b[0m\u001b[0;34m(\u001b[0m\u001b[0;34m)\u001b[0m\u001b[0;34m\u001b[0m\u001b[0;34m\u001b[0m\u001b[0m\n\u001b[0m",
      "\u001b[0;31mNameError\u001b[0m: name 'obs' is not defined"
     ]
    }
   ],
   "source": [
    "obs.max(),stacked_frame.max()"
   ]
  },
  {
   "cell_type": "code",
   "execution_count": 130,
   "metadata": {},
   "outputs": [],
   "source": [
    "obs1 = env.reset()"
   ]
  },
  {
   "cell_type": "code",
   "execution_count": 131,
   "metadata": {},
   "outputs": [],
   "source": [
    "stacked_frame,stack_frame_deque = stack_frames(obs1,stack_frame_deque)"
   ]
  },
  {
   "cell_type": "code",
   "execution_count": 132,
   "metadata": {},
   "outputs": [
    {
     "data": {
      "text/plain": [
       "(181, 0.49580196078431377)"
      ]
     },
     "execution_count": 132,
     "metadata": {},
     "output_type": "execute_result"
    }
   ],
   "source": [
    "obs1.max(),stacked_frame.max()"
   ]
  },
  {
   "cell_type": "code",
   "execution_count": 19,
   "metadata": {},
   "outputs": [],
   "source": [
    "xyz= list(stack_frame_deque)"
   ]
  },
  {
   "cell_type": "code",
   "execution_count": 50,
   "metadata": {},
   "outputs": [
    {
     "data": {
      "text/plain": [
       "(210, 160, 3)"
      ]
     },
     "execution_count": 50,
     "metadata": {},
     "output_type": "execute_result"
    }
   ],
   "source": [
    "state.shape"
   ]
  },
  {
   "cell_type": "markdown",
   "metadata": {},
   "source": [
    "## Step 4: Set up our hyperparameters ⚗️\n",
    "In this part we'll set up our different hyperparameters. But when you implement a Neural Network by yourself you will **not implement hyperparamaters at once but progressively**.\n",
    "\n",
    "- First, you begin by defining the neural networks hyperparameters when you implement the model.\n",
    "- Then, you'll add the training hyperparameters when you implement the training algorithm."
   ]
  },
  {
   "cell_type": "code",
   "execution_count": 67,
   "metadata": {},
   "outputs": [
    {
     "data": {
      "text/plain": [
       "6"
      ]
     },
     "execution_count": 67,
     "metadata": {},
     "output_type": "execute_result"
    }
   ],
   "source": [
    "action_size"
   ]
  },
  {
   "cell_type": "code",
   "execution_count": 102,
   "metadata": {},
   "outputs": [],
   "source": [
    "### MODEL HYPERPARAMETERS\n",
    "state_size = [110, 84, 4]      # Our input is a stack of 4 frames hence 110x84x4 (Width, height, channels) \n",
    "action_size = env.action_space.n # 8 possible actions\n",
    "learning_rate =  0.00025      # Alpha (aka learning rate)\n",
    "\n",
    "### TRAINING HYPERPARAMETERS\n",
    "total_episodes = 50            # Total episodes for training\n",
    "max_steps = 50000              # Max possible steps in an episode\n",
    "batch_size = 64                # Batch size\n",
    "\n",
    "# Exploration parameters for epsilon greedy strategy\n",
    "explore_start = 1.0            # exploration probability at start\n",
    "explore_stop = 0.01            # minimum exploration probability \n",
    "decay_rate = 0.00001           # exponential decay rate for exploration prob\n",
    "\n",
    "# Q learning hyperparameters\n",
    "gamma = 0.9                    # Discounting rate\n",
    "\n",
    "### MEMORY HYPERPARAMETERS\n",
    "pretrain_length = batch_size   # Number of experiences stored in the Memory when initialized for the first time\n",
    "memory_size = 1000000          # Number of experiences the Memory can keep\n",
    "\n",
    "### PREPROCESSING HYPERPARAMETERS\n",
    "stack_size = 4                 # Number of frames stacked\n",
    "\n",
    "### MODIFY THIS TO FALSE IF YOU JUST WANT TO SEE THE TRAINED AGENT\n",
    "training = False\n",
    "\n",
    "## TURN THIS TO TRUE IF YOU WANT TO RENDER THE ENVIRONMENT\n",
    "episode_render = False"
   ]
  },
  {
   "cell_type": "markdown",
   "metadata": {},
   "source": [
    "## Step 5: Create our Deep Q-learning Neural Network model 🧠\n",
    "<img src=\"https://raw.githubusercontent.com/simoninithomas/Deep_reinforcement_learning_Course/master/DQN/Space%20Invaders/assets/DQN%20Illustrations.png\" alt=\"Model\" />\n",
    "This is our Deep Q-learning model:\n",
    "- We take a stack of 4 frames as input\n",
    "- It passes through 3 convnets\n",
    "- Then it is flatened\n",
    "- Finally it passes through 2 FC layers\n",
    "- It outputs a Q value for each actions"
   ]
  },
  {
   "cell_type": "code",
   "execution_count": 238,
   "metadata": {},
   "outputs": [
    {
     "data": {
      "text/plain": [
       "\"\\nmodel.compile(\\n    loss='mse', # keras.losses.mean_squared_error\\n    optimizer=keras.optimizers.Adam(learning_rate=learning_rate\\n))\""
      ]
     },
     "execution_count": 238,
     "metadata": {},
     "output_type": "execute_result"
    }
   ],
   "source": [
    "from tensorflow import keras\n",
    "from tensorflow.keras import layers\n",
    "inputs = keras.Input(shape=(state_size),name='maininput')\n",
    "x = layers.Conv2D(filters= 32, kernel_size = 8 , strides= 2, padding = 'valid', activation = 'elu',name='conv1_layer',bias_initializer='zeros',\n",
    "  kernel_initializer='glorot_uniform')(inputs)\n",
    "x = layers.Conv2D(filters= 64, kernel_size = 4 , strides= 2, padding = 'valid', activation = 'elu',name='conv2_layer',bias_initializer='zeros',\n",
    "  kernel_initializer='glorot_uniform')(x)\n",
    "x = layers.Conv2D(filters= 64, kernel_size = 3 , strides= 2, padding = 'valid', activation = 'elu',name='conv3_layer',bias_initializer='zeros',\n",
    "  kernel_initializer='glorot_uniform')(x)\n",
    "x = layers.Flatten()(x)\n",
    "x = layers.Dense(512, activation='sigmoid', name='fc1',bias_initializer='zeros',\n",
    "  kernel_initializer='glorot_uniform')(x)\n",
    "qvalues_actions = layers.Dense(action_size, activation='softmax', name='fc2')(x)\n",
    "# Instantiate an end-to-end model  \n",
    "model = keras.Model(inputs=[inputs],\n",
    "                    outputs=[qvalues_actions])\n",
    "# Instantiate an optimizer.\n",
    "optimizer = keras.optimizers.Adam(learning_rate=learning_rate)\n",
    "# Instantiate a loss function.\n",
    "loss_fn = keras.losses.MeanSquaredError()\n",
    "\"\"\"\n",
    "model.compile(\n",
    "    loss='mse', # keras.losses.mean_squared_error\n",
    "    optimizer=keras.optimizers.Adam(learning_rate=learning_rate\n",
    "))\"\"\""
   ]
  },
  {
   "cell_type": "code",
   "execution_count": 239,
   "metadata": {},
   "outputs": [
    {
     "name": "stdout",
     "output_type": "stream",
     "text": [
      "Failed to import pydot. You must install pydot and graphviz for `pydotprint` to work.\n"
     ]
    }
   ],
   "source": [
    "keras.utils.plot_model(model, 'multi_input_and_output_model.png', show_shapes=True)"
   ]
  },
  {
   "cell_type": "code",
   "execution_count": 240,
   "metadata": {},
   "outputs": [
    {
     "name": "stdout",
     "output_type": "stream",
     "text": [
      "Model: \"model_4\"\n",
      "_________________________________________________________________\n",
      "Layer (type)                 Output Shape              Param #   \n",
      "=================================================================\n",
      "maininput (InputLayer)       [(None, 110, 84, 4)]      0         \n",
      "_________________________________________________________________\n",
      "conv1_layer (Conv2D)         (None, 52, 39, 32)        8224      \n",
      "_________________________________________________________________\n",
      "conv2_layer (Conv2D)         (None, 25, 18, 64)        32832     \n",
      "_________________________________________________________________\n",
      "conv3_layer (Conv2D)         (None, 12, 8, 64)         36928     \n",
      "_________________________________________________________________\n",
      "flatten_4 (Flatten)          (None, 6144)              0         \n",
      "_________________________________________________________________\n",
      "fc1 (Dense)                  (None, 512)               3146240   \n",
      "_________________________________________________________________\n",
      "fc2 (Dense)                  (None, 6)                 3078      \n",
      "=================================================================\n",
      "Total params: 3,227,302\n",
      "Trainable params: 3,227,302\n",
      "Non-trainable params: 0\n",
      "_________________________________________________________________\n"
     ]
    }
   ],
   "source": [
    "model.summary()"
   ]
  },
  {
   "cell_type": "markdown",
   "metadata": {},
   "source": [
    "## Step 6: Experience Replay 🔁\n",
    "Now that we create our Neural Network, **we need to implement the Experience Replay method.** <br><br>\n",
    "Here we'll create the Memory object that creates a deque.A deque (double ended queue) is a data type that **removes the oldest element each time that you add a new element.**\n",
    "\n",
    "This part was taken from Udacity : <a href=\"https://github.com/udacity/deep-learning/blob/master/reinforcement/Q-learning-cart.ipynb\" Cartpole DQN</a>"
   ]
  },
  {
   "cell_type": "code",
   "execution_count": 106,
   "metadata": {},
   "outputs": [],
   "source": [
    "class Memory:\n",
    "    def __init__(self,maxsize):\n",
    "        self.buffer=deque(maxlen=\n",
    "                          maxsize)\n",
    "    def add(self,single_memory):\n",
    "        self.buffer.append(single_memory)\n",
    "    def sample(self,batchsize):\n",
    "        return(random.sample(list(self.buffer), batch_size))"
   ]
  },
  {
   "cell_type": "code",
   "execution_count": 177,
   "metadata": {},
   "outputs": [],
   "source": [
    "memory = Memory(maxsize=memory_size)\n"
   ]
  },
  {
   "cell_type": "code",
   "execution_count": 178,
   "metadata": {},
   "outputs": [
    {
     "data": {
      "text/plain": [
       "deque([])"
      ]
     },
     "execution_count": 178,
     "metadata": {},
     "output_type": "execute_result"
    }
   ],
   "source": [
    "memory.buffer"
   ]
  },
  {
   "cell_type": "markdown",
   "metadata": {},
   "source": [
    "Here we'll **deal with the empty memory problem**: we pre-populate our memory by taking random actions and storing the experience (state, action, reward, next_state)."
   ]
  },
  {
   "cell_type": "raw",
   "metadata": {},
   "source": [
    "possible_actions = np.array(np.identity(env.action_space.n,dtype=int).tolist())"
   ]
  },
  {
   "cell_type": "code",
   "execution_count": 109,
   "metadata": {},
   "outputs": [
    {
     "data": {
      "text/plain": [
       "4"
      ]
     },
     "execution_count": 109,
     "metadata": {},
     "output_type": "execute_result"
    }
   ],
   "source": [
    "env.action_space.sample()"
   ]
  },
  {
   "cell_type": "code",
   "execution_count": 45,
   "metadata": {},
   "outputs": [],
   "source": [
    "new_state,reward,done,info=env.step(rand_action)"
   ]
  },
  {
   "cell_type": "code",
   "execution_count": 47,
   "metadata": {},
   "outputs": [
    {
     "data": {
      "text/plain": [
       "False"
      ]
     },
     "execution_count": 47,
     "metadata": {},
     "output_type": "execute_result"
    }
   ],
   "source": [
    "done"
   ]
  },
  {
   "cell_type": "code",
   "execution_count": 50,
   "metadata": {},
   "outputs": [
    {
     "data": {
      "text/plain": [
       "5"
      ]
     },
     "execution_count": 50,
     "metadata": {},
     "output_type": "execute_result"
    }
   ],
   "source": [
    "len(list(memory.buffer)[0])"
   ]
  },
  {
   "cell_type": "code",
   "execution_count": 53,
   "metadata": {},
   "outputs": [
    {
     "data": {
      "text/plain": [
       "0.0"
      ]
     },
     "execution_count": 53,
     "metadata": {},
     "output_type": "execute_result"
    }
   ],
   "source": [
    "list(memory.buffer)[0][-3]"
   ]
  },
  {
   "cell_type": "code",
   "execution_count": 163,
   "metadata": {},
   "outputs": [
    {
     "data": {
      "text/plain": [
       "True"
      ]
     },
     "execution_count": 163,
     "metadata": {},
     "output_type": "execute_result"
    }
   ],
   "source": [
    "np.array_equal(state_temp[0],state_temp[20])"
   ]
  },
  {
   "cell_type": "markdown",
   "metadata": {},
   "source": [
    "# Issue with environment, same states returned always "
   ]
  },
  {
   "cell_type": "code",
   "execution_count": null,
   "metadata": {},
   "outputs": [],
   "source": []
  },
  {
   "cell_type": "code",
   "execution_count": 179,
   "metadata": {},
   "outputs": [
    {
     "name": "stdout",
     "output_type": "stream",
     "text": [
      "3\n",
      "False {'ale.lives': 3} 0.0\n",
      "4\n",
      "False {'ale.lives': 3} 0.0\n",
      "4\n",
      "False {'ale.lives': 3} 0.0\n",
      "1\n",
      "False {'ale.lives': 3} 0.0\n",
      "4\n",
      "False {'ale.lives': 3} 0.0\n",
      "0\n",
      "False {'ale.lives': 3} 0.0\n",
      "0\n",
      "False {'ale.lives': 3} 0.0\n",
      "2\n",
      "False {'ale.lives': 3} 0.0\n",
      "0\n",
      "False {'ale.lives': 3} 0.0\n",
      "2\n",
      "False {'ale.lives': 3} 0.0\n",
      "4\n",
      "False {'ale.lives': 3} 0.0\n",
      "0\n",
      "False {'ale.lives': 3} 0.0\n",
      "5\n",
      "False {'ale.lives': 3} 0.0\n",
      "1\n",
      "False {'ale.lives': 3} 0.0\n",
      "1\n",
      "False {'ale.lives': 3} 0.0\n",
      "2\n",
      "False {'ale.lives': 3} 0.0\n",
      "0\n",
      "False {'ale.lives': 3} 0.0\n",
      "0\n",
      "False {'ale.lives': 3} 0.0\n",
      "0\n",
      "False {'ale.lives': 3} 0.0\n",
      "0\n",
      "False {'ale.lives': 3} 0.0\n",
      "4\n",
      "False {'ale.lives': 3} 0.0\n",
      "3\n",
      "False {'ale.lives': 3} 0.0\n",
      "4\n",
      "False {'ale.lives': 3} 0.0\n",
      "2\n",
      "False {'ale.lives': 3} 0.0\n",
      "5\n",
      "False {'ale.lives': 3} 0.0\n",
      "2\n",
      "False {'ale.lives': 3} 0.0\n",
      "5\n",
      "False {'ale.lives': 3} 0.0\n",
      "1\n",
      "False {'ale.lives': 3} 0.0\n",
      "1\n",
      "False {'ale.lives': 3} 0.0\n",
      "0\n",
      "False {'ale.lives': 3} 0.0\n",
      "2\n",
      "False {'ale.lives': 3} 0.0\n",
      "3\n",
      "False {'ale.lives': 3} 0.0\n",
      "4\n",
      "False {'ale.lives': 3} 0.0\n",
      "3\n",
      "False {'ale.lives': 3} 0.0\n",
      "3\n",
      "False {'ale.lives': 3} 0.0\n",
      "2\n",
      "False {'ale.lives': 3} 0.0\n",
      "5\n",
      "False {'ale.lives': 3} 0.0\n",
      "4\n",
      "False {'ale.lives': 3} 0.0\n",
      "2\n",
      "False {'ale.lives': 3} 0.0\n",
      "4\n",
      "False {'ale.lives': 3} 0.0\n",
      "3\n",
      "False {'ale.lives': 3} 0.0\n",
      "1\n",
      "False {'ale.lives': 3} 0.0\n",
      "2\n",
      "False {'ale.lives': 3} 0.0\n",
      "5\n",
      "False {'ale.lives': 3} 0.0\n",
      "0\n",
      "False {'ale.lives': 3} 0.0\n",
      "2\n",
      "False {'ale.lives': 3} 0.0\n",
      "5\n",
      "False {'ale.lives': 3} 0.0\n",
      "1\n",
      "False {'ale.lives': 3} 0.0\n",
      "1\n",
      "False {'ale.lives': 3} 0.0\n",
      "0\n",
      "False {'ale.lives': 3} 0.0\n",
      "5\n",
      "False {'ale.lives': 3} 0.0\n",
      "1\n",
      "False {'ale.lives': 3} 0.0\n",
      "0\n",
      "False {'ale.lives': 3} 0.0\n",
      "4\n",
      "False {'ale.lives': 3} 0.0\n",
      "3\n",
      "False {'ale.lives': 3} 0.0\n",
      "5\n",
      "False {'ale.lives': 3} 0.0\n",
      "4\n",
      "False {'ale.lives': 3} 0.0\n",
      "5\n",
      "False {'ale.lives': 3} 0.0\n",
      "1\n",
      "False {'ale.lives': 3} 0.0\n",
      "5\n",
      "False {'ale.lives': 3} 0.0\n",
      "2\n",
      "False {'ale.lives': 3} 0.0\n",
      "5\n",
      "False {'ale.lives': 3} 0.0\n",
      "4\n",
      "False {'ale.lives': 3} 0.0\n",
      "3\n",
      "False {'ale.lives': 3} 0.0\n"
     ]
    }
   ],
   "source": [
    "state = env.reset()\n",
    "initial = True\n",
    "stack_frame_deque = deque(maxlen=state_size[2])\n",
    "state_temp=[state]\n",
    "for i in range(batch_size):\n",
    "    #rand_action = env.action_space.sample()\n",
    "    rand_action = possible_actions[random.randint(0,env.action_space.n-1)]\n",
    "    print(rand_action)\n",
    "    if initial:\n",
    "        stacked_frame,stack_frame_deque = stack_frames(state,stack_frame_deque,initial=True)\n",
    "    else:\n",
    "        stacked_frame,stack_frame_deque = stack_frames(state,stack_frame_deque,initial=False)\n",
    "    new_state,reward,done,info=env.step(rand_action)\n",
    "    state_temp.append(new_state)\n",
    "    print(done,info,reward)\n",
    "    #print(reward)\n",
    "    resize= (state_size[0],state_size[1])\n",
    "    new_stacked_frame,stack_frame_deque = stack_frames(new_state,stack_frame_deque,initial=False)\n",
    "    #print(new_stacked_frame.shape)\n",
    "    state= new_state\n",
    "    \n",
    "    initial = False\n",
    "    if done:\n",
    "        print('test')\n",
    "        state = env.reset()\n",
    "        new_stacked_frame = np.zeros(shape=new_stacked_frame.shape)\n",
    "    memory.add((stacked_frame,new_stacked_frame,reward,info,done))\n",
    "        "
   ]
  },
  {
   "cell_type": "code",
   "execution_count": 75,
   "metadata": {},
   "outputs": [
    {
     "data": {
      "text/plain": [
       "5"
      ]
     },
     "execution_count": 75,
     "metadata": {},
     "output_type": "execute_result"
    }
   ],
   "source": [
    "random.randint(0,env.action_space.n-1)"
   ]
  },
  {
   "cell_type": "code",
   "execution_count": 76,
   "metadata": {},
   "outputs": [
    {
     "data": {
      "text/plain": [
       "64"
      ]
     },
     "execution_count": 76,
     "metadata": {},
     "output_type": "execute_result"
    }
   ],
   "source": [
    "len(memory.buffer)"
   ]
  },
  {
   "cell_type": "code",
   "execution_count": 44,
   "metadata": {},
   "outputs": [
    {
     "data": {
      "text/plain": [
       "5"
      ]
     },
     "execution_count": 44,
     "metadata": {},
     "output_type": "execute_result"
    }
   ],
   "source": [
    "len(list(memory.buffer)[1])"
   ]
  },
  {
   "cell_type": "code",
   "execution_count": 111,
   "metadata": {},
   "outputs": [],
   "source": [
    "stacked_frame,new_stacked_frame,reward,info,done=list(memory.buffer)[10]"
   ]
  },
  {
   "cell_type": "code",
   "execution_count": 112,
   "metadata": {},
   "outputs": [
    {
     "data": {
      "text/plain": [
       "(110, 84, 4)"
      ]
     },
     "execution_count": 112,
     "metadata": {},
     "output_type": "execute_result"
    }
   ],
   "source": [
    "stacked_frame.shape"
   ]
  },
  {
   "cell_type": "code",
   "execution_count": 113,
   "metadata": {},
   "outputs": [
    {
     "data": {
      "text/plain": [
       "(110, 84, 4)"
      ]
     },
     "execution_count": 113,
     "metadata": {},
     "output_type": "execute_result"
    }
   ],
   "source": [
    "new_stacked_frame.shape"
   ]
  },
  {
   "cell_type": "code",
   "execution_count": 114,
   "metadata": {},
   "outputs": [
    {
     "data": {
      "text/plain": [
       "0.0"
      ]
     },
     "execution_count": 114,
     "metadata": {},
     "output_type": "execute_result"
    }
   ],
   "source": [
    "reward"
   ]
  },
  {
   "cell_type": "code",
   "execution_count": 115,
   "metadata": {},
   "outputs": [
    {
     "data": {
      "text/plain": [
       "{'ale.lives': 3}"
      ]
     },
     "execution_count": 115,
     "metadata": {},
     "output_type": "execute_result"
    }
   ],
   "source": [
    "info"
   ]
  },
  {
   "cell_type": "code",
   "execution_count": 38,
   "metadata": {},
   "outputs": [
    {
     "data": {
      "text/plain": [
       "False"
      ]
     },
     "execution_count": 38,
     "metadata": {},
     "output_type": "execute_result"
    }
   ],
   "source": [
    "done"
   ]
  },
  {
   "cell_type": "code",
   "execution_count": null,
   "metadata": {},
   "outputs": [],
   "source": [
    "observation (object): agent's observation of the current environment\n",
    "    reward (float) : amount of reward returned after previous action\n",
    "    done (bool): whether the episode has ended, in which case further step() calls will return undefined results\n",
    "    info (dict): contains auxiliary diagnostic information (helpful for debugging, and sometimes learning)"
   ]
  },
  {
   "cell_type": "code",
   "execution_count": 108,
   "metadata": {},
   "outputs": [
    {
     "data": {
      "text/plain": [
       "(84, 110, 4)"
      ]
     },
     "execution_count": 108,
     "metadata": {},
     "output_type": "execute_result"
    }
   ],
   "source": [
    "[110, 84, 4] "
   ]
  },
  {
   "cell_type": "code",
   "execution_count": 114,
   "metadata": {},
   "outputs": [
    {
     "data": {
      "text/plain": [
       "(1, 84, 110, 4)"
      ]
     },
     "execution_count": 114,
     "metadata": {},
     "output_type": "execute_result"
    }
   ],
   "source": [
    "np.expand_dims(stacked_frame, axis=0).shape"
   ]
  },
  {
   "cell_type": "code",
   "execution_count": 143,
   "metadata": {},
   "outputs": [
    {
     "data": {
      "text/plain": [
       "array([[0.04875204, 0.09034419, 0.11778502, 0.13086842, 0.20129293,\n",
       "        0.07460781, 0.21725003, 0.11909948]], dtype=float32)"
      ]
     },
     "execution_count": 143,
     "metadata": {},
     "output_type": "execute_result"
    }
   ],
   "source": [
    "model.predict(np.expand_dims(stacked_frame, axis=0))"
   ]
  },
  {
   "cell_type": "code",
   "execution_count": 149,
   "metadata": {},
   "outputs": [
    {
     "data": {
      "text/plain": [
       "(1, 8)"
      ]
     },
     "execution_count": 149,
     "metadata": {},
     "output_type": "execute_result"
    }
   ],
   "source": [
    "model.predict(np.expand_dims(stacked_frame, axis=0)).shape"
   ]
  },
  {
   "cell_type": "code",
   "execution_count": 150,
   "metadata": {},
   "outputs": [
    {
     "data": {
      "text/plain": [
       "array([6], dtype=int64)"
      ]
     },
     "execution_count": 150,
     "metadata": {},
     "output_type": "execute_result"
    }
   ],
   "source": [
    "np.argmax(model.predict(np.expand_dims(stacked_frame, axis=0)),axis=1)"
   ]
  },
  {
   "cell_type": "code",
   "execution_count": 153,
   "metadata": {},
   "outputs": [
    {
     "data": {
      "text/plain": [
       "array([0, 0, 0, 0, 0, 0, 1, 0])"
      ]
     },
     "execution_count": 153,
     "metadata": {},
     "output_type": "execute_result"
    }
   ],
   "source": []
  },
  {
   "cell_type": "markdown",
   "metadata": {},
   "source": [
    "## Step 7: Set up Tensorboard 📊\n",
    "For more information about tensorboard, please watch this <a href=\"https://www.youtube.com/embed/eBbEDRsCmv4\">excellent 30min tutorial</a> <br><br>\n",
    "To launch tensorboard : `tensorboard --logdir=/tensorboard/dqn/1`"
   ]
  },
  {
   "cell_type": "code",
   "execution_count": 118,
   "metadata": {},
   "outputs": [
    {
     "data": {
      "text/plain": [
       "'\\nmodel.fit(\\n    x_train, # input\\n    y_train, # output\\n    batch_size=train_size,\\n    verbose=0, # Suppress chatty output; use Tensorboard instead\\n    epochs=100,\\n    callbacks=[tensorboard_callback]\\n)\\n'"
      ]
     },
     "execution_count": 118,
     "metadata": {},
     "output_type": "execute_result"
    }
   ],
   "source": [
    "logdir = \"logs/scalars/\" + datetime.now().strftime(\"%Y%m%d-%H%M%S\")\n",
    "tensorboard_callback = keras.callbacks.TensorBoard(log_dir=logdir)\n",
    "\"\"\"\n",
    "model.fit(\n",
    "    x_train, # input\n",
    "    y_train, # output\n",
    "    batch_size=train_size,\n",
    "    verbose=0, # Suppress chatty output; use Tensorboard instead\n",
    "    epochs=100,\n",
    "    callbacks=[tensorboard_callback]\n",
    ")\n",
    "\"\"\""
   ]
  },
  {
   "cell_type": "code",
   "execution_count": 180,
   "metadata": {},
   "outputs": [],
   "source": [
    "batch_sample_list = memory.sample(batchsize=batch_size)\n",
    "batch_states = [i[0] for i in batch_sample_list]\n",
    "batch_new_states = [i[1] for i in batch_sample_list]\n",
    "batch_rewards = [i[2] for i in batch_sample_list]\n",
    "batch_info =[i[3] for i in batch_sample_list]\n",
    "batch_done = [i[4] for i in batch_sample_list]\n"
   ]
  },
  {
   "cell_type": "code",
   "execution_count": 181,
   "metadata": {},
   "outputs": [
    {
     "data": {
      "text/plain": [
       "64"
      ]
     },
     "execution_count": 181,
     "metadata": {},
     "output_type": "execute_result"
    }
   ],
   "source": [
    "len(batch_sample_list)"
   ]
  },
  {
   "cell_type": "code",
   "execution_count": 200,
   "metadata": {},
   "outputs": [
    {
     "data": {
      "text/plain": [
       "64"
      ]
     },
     "execution_count": 200,
     "metadata": {},
     "output_type": "execute_result"
    }
   ],
   "source": [
    "len(memory.sample(batchsize=batch_size))"
   ]
  },
  {
   "cell_type": "code",
   "execution_count": 201,
   "metadata": {},
   "outputs": [
    {
     "ename": "AttributeError",
     "evalue": "'tuple' object has no attribute 'shape'",
     "output_type": "error",
     "traceback": [
      "\u001b[0;31m\u001b[0m",
      "\u001b[0;31mAttributeError\u001b[0mTraceback (most recent call last)",
      "\u001b[0;32m<ipython-input-201-e48caebf875e>\u001b[0m in \u001b[0;36m<module>\u001b[0;34m\u001b[0m\n\u001b[0;32m----> 1\u001b[0;31m \u001b[0mmemory\u001b[0m\u001b[0;34m.\u001b[0m\u001b[0msample\u001b[0m\u001b[0;34m(\u001b[0m\u001b[0mbatchsize\u001b[0m\u001b[0;34m=\u001b[0m\u001b[0mbatch_size\u001b[0m\u001b[0;34m)\u001b[0m\u001b[0;34m[\u001b[0m\u001b[0;36m0\u001b[0m\u001b[0;34m]\u001b[0m\u001b[0;34m.\u001b[0m\u001b[0mshape\u001b[0m\u001b[0;34m\u001b[0m\u001b[0;34m\u001b[0m\u001b[0m\n\u001b[0m",
      "\u001b[0;31mAttributeError\u001b[0m: 'tuple' object has no attribute 'shape'"
     ]
    }
   ],
   "source": [
    "memory.sample(batchsize=batch_size)[0]"
   ]
  },
  {
   "cell_type": "code",
   "execution_count": 182,
   "metadata": {},
   "outputs": [
    {
     "data": {
      "text/plain": [
       "({False}, {0.0})"
      ]
     },
     "execution_count": 182,
     "metadata": {},
     "output_type": "execute_result"
    }
   ],
   "source": [
    "set(batch_done),set(batch_rewards)"
   ]
  },
  {
   "cell_type": "code",
   "execution_count": 183,
   "metadata": {},
   "outputs": [
    {
     "data": {
      "text/plain": [
       "(64, 5)"
      ]
     },
     "execution_count": 183,
     "metadata": {},
     "output_type": "execute_result"
    }
   ],
   "source": [
    "np.array(batch_sample_list).shape"
   ]
  },
  {
   "cell_type": "code",
   "execution_count": 184,
   "metadata": {},
   "outputs": [
    {
     "data": {
      "text/plain": [
       "(64, 5)"
      ]
     },
     "execution_count": 184,
     "metadata": {},
     "output_type": "execute_result"
    }
   ],
   "source": [
    "np.stack(batch_sample_list,axis=0).shape"
   ]
  },
  {
   "cell_type": "code",
   "execution_count": 185,
   "metadata": {},
   "outputs": [
    {
     "data": {
      "text/plain": [
       "64"
      ]
     },
     "execution_count": 185,
     "metadata": {},
     "output_type": "execute_result"
    }
   ],
   "source": [
    "len(batch_states)"
   ]
  },
  {
   "cell_type": "code",
   "execution_count": 191,
   "metadata": {},
   "outputs": [
    {
     "data": {
      "text/plain": [
       "(1, 110, 84, 4)"
      ]
     },
     "execution_count": 191,
     "metadata": {},
     "output_type": "execute_result"
    }
   ],
   "source": [
    "np.expand_dims(batch_states[0],axis=0).shape"
   ]
  },
  {
   "cell_type": "code",
   "execution_count": 10,
   "metadata": {},
   "outputs": [],
   "source": [
    "\n",
    "## Losses\n",
    "tf.summary.scalar(\"Loss\", DQNetwork.loss)\n",
    "\n",
    "write_op = tf.summary.merge_all()"
   ]
  },
  {
   "cell_type": "markdown",
   "metadata": {},
   "source": [
    "## Step 8: Train our Agent 🏃‍♂️\n",
    "\n",
    "Our algorithm:\n",
    "<br>\n",
    "* Initialize the weights\n",
    "* Init the environment\n",
    "* Initialize the decay rate (that will use to reduce epsilon) \n",
    "<br><br>\n",
    "* **For** episode to max_episode **do** \n",
    "    * Make new episode\n",
    "    * Set step to 0\n",
    "    * Observe the first state $s_0$\n",
    "    <br><br>\n",
    "    * **While** step < max_steps **do**:\n",
    "        * Increase decay_rate\n",
    "        * With $\\epsilon$ select a random action $a_t$, otherwise select $a_t = \\mathrm{argmax}_a Q(s_t,a)$\n",
    "        * Execute action $a_t$ in simulator and observe reward $r_{t+1}$ and new state $s_{t+1}$\n",
    "        * Store transition $<s_t, a_t, r_{t+1}, s_{t+1}>$ in memory $D$\n",
    "        * Sample random mini-batch from $D$: $<s, a, r, s'>$\n",
    "        * Set $\\hat{Q} = r$ if the episode ends at $+1$, otherwise set $\\hat{Q} = r + \\gamma \\max_{a'}{Q(s', a')}$\n",
    "        * Make a gradient descent step with loss $(\\hat{Q} - Q(s, a))^2$\n",
    "    * **endfor**\n",
    "    <br><br>\n",
    "* **endfor**\n",
    "\n",
    "    "
   ]
  },
  {
   "cell_type": "code",
   "execution_count": 122,
   "metadata": {},
   "outputs": [
    {
     "data": {
      "text/plain": [
       "<matplotlib.collections.PathCollection at 0x7fb2e835a0b8>"
      ]
     },
     "execution_count": 122,
     "metadata": {},
     "output_type": "execute_result"
    },
    {
     "data": {
      "image/png": "[encoded data removed]",
      "text/plain": [
       "<Figure size 432x288 with 1 Axes>"
      ]
     },
     "metadata": {
      "needs_background": "light"
     },
     "output_type": "display_data"
    }
   ],
   "source": [
    "\n",
    "import matplotlib.pyplot as plt\n",
    "\n",
    "\n",
    "plt.scatter(np.arange(total_episodes*50000),(explore_stop+(explore_start-explore_stop)*np.exp(-decay_rate * np.arange(total_episodes*50000))))"
   ]
  },
  {
   "cell_type": "code",
   "execution_count": 125,
   "metadata": {},
   "outputs": [],
   "source": [
    "import math"
   ]
  },
  {
   "cell_type": "code",
   "execution_count": 127,
   "metadata": {},
   "outputs": [
    {
     "data": {
      "text/plain": [
       "[0, 1, 2, 3, 4, 5]"
      ]
     },
     "execution_count": 127,
     "metadata": {},
     "output_type": "execute_result"
    }
   ],
   "source": [
    "possible_actions"
   ]
  },
  {
   "cell_type": "code",
   "execution_count": 137,
   "metadata": {},
   "outputs": [
    {
     "data": {
      "text/plain": [
       "array([3, 4, 3, 3, 2, 3, 3, 1, 4, 2])"
      ]
     },
     "execution_count": 137,
     "metadata": {},
     "output_type": "execute_result"
    }
   ],
   "source": []
  },
  {
   "cell_type": "code",
   "execution_count": 254,
   "metadata": {},
   "outputs": [],
   "source": [
    "\"\"\"\n",
    "This function will do the part\n",
    "With ϵϵ select a random action atat, otherwise select at=argmaxaQ(st,a)\n",
    "\"\"\"\n",
    "def predict_action(batch_states,model,possible_actions,explore_start,explore_stop,current_total_steps,decay_rate):\n",
    "    #print(len(batch_states))\n",
    "    epsilon = explore_stop + (explore_start - explore_stop ) * (math.exp(-decay_rate * current_total_steps))\n",
    "    if random.random() > epsilon:\n",
    "        actions_predicted= np.argmax(model.predict(np.stack(batch_states,axis=0)),axis=1)\n",
    "        #qvalues_predicted= model.predict(np.stack(batch_states,axis=0))\n",
    "        #print('test')\n",
    "    else:\n",
    "        actions_predicted = np.random.randint(low=0,high=5,size=(len(batch_states),))\n",
    "    return(actions_predicted)\n"
   ]
  },
  {
   "cell_type": "code",
   "execution_count": 170,
   "metadata": {},
   "outputs": [
    {
     "data": {
      "text/plain": [
       "(110, 84, 4)"
      ]
     },
     "execution_count": 170,
     "metadata": {},
     "output_type": "execute_result"
    }
   ],
   "source": [
    "batch_states[0].shape"
   ]
  },
  {
   "cell_type": "code",
   "execution_count": 174,
   "metadata": {},
   "outputs": [
    {
     "data": {
      "text/plain": [
       "110"
      ]
     },
     "execution_count": 174,
     "metadata": {},
     "output_type": "execute_result"
    }
   ],
   "source": [
    "len(batch_states[0])"
   ]
  },
  {
   "cell_type": "code",
   "execution_count": 198,
   "metadata": {},
   "outputs": [
    {
     "name": "stdout",
     "output_type": "stream",
     "text": [
      "1\n"
     ]
    },
    {
     "data": {
      "text/plain": [
       "4"
      ]
     },
     "execution_count": 198,
     "metadata": {},
     "output_type": "execute_result"
    }
   ],
   "source": [
    "predict_action(np.expand_dims(batch_states[10],axis=0),model,possible_actions,explore_start,explore_stop,100000,decay_rate) [0]"
   ]
  },
  {
   "cell_type": "code",
   "execution_count": 194,
   "metadata": {},
   "outputs": [],
   "source": [
    "stacked_frame,stack_frame_deque = stack_frames(state,stack_frame_deque,initial=True)"
   ]
  },
  {
   "cell_type": "code",
   "execution_count": 195,
   "metadata": {},
   "outputs": [
    {
     "data": {
      "text/plain": [
       "(110, 84, 4)"
      ]
     },
     "execution_count": 195,
     "metadata": {},
     "output_type": "execute_result"
    }
   ],
   "source": [
    "stacked_frame.shape"
   ]
  },
  {
   "cell_type": "code",
   "execution_count": 197,
   "metadata": {},
   "outputs": [
    {
     "data": {
      "text/plain": [
       "4"
      ]
     },
     "execution_count": 197,
     "metadata": {},
     "output_type": "execute_result"
    }
   ],
   "source": [
    "len(stack_frame_deque)"
   ]
  },
  {
   "cell_type": "code",
   "execution_count": 204,
   "metadata": {},
   "outputs": [
    {
     "data": {
      "text/plain": [
       "(1, 6)"
      ]
     },
     "execution_count": 204,
     "metadata": {},
     "output_type": "execute_result"
    }
   ],
   "source": [
    "model.predict(np.expand_dims(batch_states[0],axis=0)).shape"
   ]
  },
  {
   "cell_type": "code",
   "execution_count": 205,
   "metadata": {},
   "outputs": [],
   "source": [
    " q_values_state =  model.predict(np.stack(batch_states,axis=0))"
   ]
  },
  {
   "cell_type": "code",
   "execution_count": 206,
   "metadata": {},
   "outputs": [
    {
     "data": {
      "text/plain": [
       "(64, 6)"
      ]
     },
     "execution_count": 206,
     "metadata": {},
     "output_type": "execute_result"
    }
   ],
   "source": [
    "q_values_state.shape"
   ]
  },
  {
   "cell_type": "code",
   "execution_count": 228,
   "metadata": {},
   "outputs": [],
   "source": [
    "q_values_state =  model.predict(np.stack(batch_states,axis=0))\n",
    "q_values_state_target=[]\n",
    "for i,temp_state in enumerate(batch_new_states):\n",
    "    if batch_done[i]:\n",
    "        q_values_state_target.append(batch_rewards[i] + np.zeros(((env.action_space.n))))\n",
    "    else:\n",
    "        q_values_state_target.append(batch_rewards[i] + gamma * model.predict(np.expand_dims(temp_state,axis=0)))"
   ]
  },
  {
   "cell_type": "code",
   "execution_count": 217,
   "metadata": {},
   "outputs": [
    {
     "data": {
      "text/plain": [
       "(64, 6)"
      ]
     },
     "execution_count": 217,
     "metadata": {},
     "output_type": "execute_result"
    }
   ],
   "source": [
    "q_values_state.shape"
   ]
  },
  {
   "cell_type": "code",
   "execution_count": null,
   "metadata": {},
   "outputs": [],
   "source": [
    "np.array()"
   ]
  },
  {
   "cell_type": "code",
   "execution_count": 227,
   "metadata": {},
   "outputs": [
    {
     "data": {
      "text/plain": [
       "array([0., 0., 0., 0., 0., 0.])"
      ]
     },
     "execution_count": 227,
     "metadata": {},
     "output_type": "execute_result"
    }
   ],
   "source": [
    "(batch_rewards[3] + np.zeros(env.action_space.n)).shape"
   ]
  },
  {
   "cell_type": "code",
   "execution_count": 231,
   "metadata": {},
   "outputs": [],
   "source": [
    "q_values_state =  model.predict(np.stack(batch_states,axis=0))\n",
    "q_values_state_target=[]\n",
    "for i,temp_state in enumerate(batch_new_states):\n",
    "    if batch_done[i]:\n",
    "        q_values_state_target.append(batch_rewards[i] + np.zeros((1,(env.action_space.n))))\n",
    "    else:\n",
    "        q_values_state_target.append(batch_rewards[i] + gamma * model.predict(np.expand_dims(temp_state,axis=0)))\n",
    "q_values_state_target= np.squeeze(np.stack(q_values_state_target,axis=0),axis=1)"
   ]
  },
  {
   "cell_type": "code",
   "execution_count": 233,
   "metadata": {},
   "outputs": [
    {
     "data": {
      "text/plain": [
       "((64, 6), (64, 6))"
      ]
     },
     "execution_count": 233,
     "metadata": {},
     "output_type": "execute_result"
    }
   ],
   "source": [
    "q_values_state.shape,q_values_state_target.shape"
   ]
  },
  {
   "cell_type": "code",
   "execution_count": 252,
   "metadata": {},
   "outputs": [
    {
     "name": "stdout",
     "output_type": "stream",
     "text": [
      "WARNING:tensorflow:Layer conv1_layer is casting an input tensor from dtype float64 to the layer's dtype of float32, which is new behavior in TensorFlow 2.  The layer has dtype float32 because it's dtype defaults to floatx.\n",
      "\n",
      "If you intended to run this layer in float32, you can safely ignore this warning. If in doubt, this warning is likely only an issue if you are porting a TensorFlow 1.X model to TensorFlow 2.\n",
      "\n",
      "To change all layers to have dtype float64 by default, call `tf.keras.backend.set_floatx('float64')`. To change just this layer, pass dtype='float64' to the layer constructor. If you are the author of this layer, you can disable autocasting by passing autocast=False to the base Layer constructor.\n",
      "\n"
     ]
    },
    {
     "data": {
      "text/plain": [
       "<tf.Tensor: id=12623, shape=(1, 6), dtype=float32, numpy=\n",
       "array([[0.29206154, 0.18439458, 0.1731878 , 0.11135724, 0.12217943,\n",
       "        0.11681935]], dtype=float32)>"
      ]
     },
     "execution_count": 252,
     "metadata": {},
     "output_type": "execute_result"
    }
   ],
   "source": [
    "model(np.expand_dims(temp_state,axis=0))"
   ]
  },
  {
   "cell_type": "code",
   "execution_count": 261,
   "metadata": {},
   "outputs": [
    {
     "data": {
      "text/plain": [
       "9.333333333333334"
      ]
     },
     "execution_count": 261,
     "metadata": {},
     "output_type": "execute_result"
    }
   ],
   "source": [
    "np.mean([2,23,3])"
   ]
  },
  {
   "cell_type": "code",
   "execution_count": null,
   "metadata": {},
   "outputs": [
    {
     "name": "stdout",
     "output_type": "stream",
     "text": [
      "At episode 0, Training loss  is 0.00027783753466792405, with average rewards: 340.0, with average steps: 910.0 \n",
      "At episode 2, Training loss  is 9.747673988342285, with average rewards: 246.66666666666666, with average steps: 849.6666666666666 \n",
      "At episode 4, Training loss  is 3.114861488342285, with average rewards: 259.0, with average steps: 878.8 \n",
      "At episode 6, Training loss  is 0.0002778147754725069, with average rewards: 246.42857142857142, with average steps: 805.4285714285714 \n",
      "At episode 8, Training loss  is 5.06538200378418, with average rewards: 245.55555555555554, with average steps: 837.4444444444445 \n"
     ]
    }
   ],
   "source": [
    "%%time\n",
    "current_total_steps = 0\n",
    "stack_frame_deque = deque(maxlen=state_size[2])\n",
    "episodes_rewards = []\n",
    "episodes_steps = []\n",
    "for episode in (range(total_episodes)):\n",
    "    #print(episode)\n",
    "    state = env.reset()\n",
    "    current_episode_rewards=0\n",
    "    rewards = 0\n",
    "    steps=0\n",
    "    stacked_frame,stack_frame_deque = stack_frames(state,stack_frame_deque,initial=True)\n",
    "    for step in range(max_steps):\n",
    "        current_total_steps+=1\n",
    "        action_taken = predict_action(np.expand_dims(stacked_frame,axis=0),model,possible_actions,explore_start,explore_stop,100000,decay_rate)\n",
    "        action_taken=action_taken[0]\n",
    "        state_new, reward, done, info = env.step(action_taken)\n",
    "        current_episode_rewards+=reward\n",
    "        # learning\n",
    "        batch_sample_list = memory.sample(batchsize=batch_size)\n",
    "        batch_states = [i[0] for i in batch_sample_list]\n",
    "        batch_new_states = [i[1] for i in batch_sample_list]\n",
    "        batch_rewards = [i[2] for i in batch_sample_list]\n",
    "        batch_info =[i[3] for i in batch_sample_list]\n",
    "        batch_done = [i[4] for i in batch_sample_list]\n",
    "        with tf.GradientTape() as tape:\n",
    "            #model prediciton on batch\n",
    "            #target Q values, by inferencing on next state\n",
    "            q_values_state =  model(np.stack(batch_states,axis=0))\n",
    "            q_values_state_target=[]\n",
    "            for j,temp_state in enumerate(batch_new_states):\n",
    "                if batch_done[j]:\n",
    "                    q_values_state_target.append(batch_rewards[j] + np.zeros((1,(env.action_space.n))))\n",
    "                else:\n",
    "                    q_values_state_target.append(batch_rewards[j] + gamma * model(np.expand_dims(temp_state,axis=0)))\n",
    "            q_values_state_target= np.squeeze(np.stack(q_values_state_target,axis=0),axis=1)\n",
    "            loss_value = loss_fn(q_values_state_target,q_values_state) \n",
    "            grads = tape.gradient(loss_value, model.trainable_weights)\n",
    "            optimizer.apply_gradients(zip(grads,model.trainable_weights))\n",
    "        if done:\n",
    "            new_stacked_frame = np.zeros(shape=stacked_frame.shape)\n",
    "            memory.add((stacked_frame,new_stacked_frame,reward,info,done))\n",
    "            break\n",
    "        else:\n",
    "            new_stacked_frame,stack_frame_deque = stack_frames(state_new,stack_frame_deque,initial=False)\n",
    "            memory.add((stacked_frame,new_stacked_frame,reward,info,done))\n",
    "            stacked_frame = new_stacked_frame\n",
    "            \n",
    "    episodes_rewards.append(current_episode_rewards)\n",
    "    episodes_steps.append(step)\n",
    "    if episode%2 ==0:\n",
    "        print(f'At episode {episode}, Training loss  is {float(loss_value)}, with average rewards: {np.mean(episodes_rewards)}, with average steps: {np.mean(episodes_steps)} ')\n",
    "#print(\"after episodes :{} reward over time: {}\".format(total_episodes,sum(rewards)/total_episodes))\n",
    "           "
   ]
  },
  {
   "cell_type": "code",
   "execution_count": null,
   "metadata": {},
   "outputs": [],
   "source": []
  },
  {
   "cell_type": "code",
   "execution_count": null,
   "metadata": {},
   "outputs": [],
   "source": []
  },
  {
   "cell_type": "code",
   "execution_count": 246,
   "metadata": {},
   "outputs": [
    {
     "data": {
      "text/plain": [
       "[<tf.Variable 'conv1_layer_4/kernel:0' shape=(8, 8, 4, 32) dtype=float32, numpy=\n",
       " array([[[[ 1.74456686e-02, -3.85814011e-02,  3.50942463e-03, ...,\n",
       "            2.92823687e-02, -6.05165586e-03,  3.73790711e-02],\n",
       "          [-1.16554759e-02,  1.90319717e-02, -1.36348233e-02, ...,\n",
       "           -3.63592170e-02, -4.62081879e-02,  2.77451947e-02],\n",
       "          [ 4.89504263e-02,  2.63531730e-02, -4.51654121e-02, ...,\n",
       "           -2.05650032e-02, -2.69942284e-02,  1.23890191e-02],\n",
       "          [-1.76105015e-02,  3.24032456e-02,  4.48088571e-02, ...,\n",
       "            3.68008614e-02, -2.78006904e-02,  2.60655880e-02]],\n",
       " \n",
       "         [[-2.12021545e-03, -2.00686492e-02, -3.55980769e-02, ...,\n",
       "           -7.33404234e-03, -1.02149807e-02, -1.02021843e-02],\n",
       "          [ 4.24538851e-02, -1.21085420e-02,  3.64839733e-02, ...,\n",
       "            2.34996080e-02, -2.26927977e-02,  2.52513587e-03],\n",
       "          [-2.37651616e-02, -1.64097175e-02,  3.00559700e-02, ...,\n",
       "           -3.42138074e-02,  4.33633700e-02,  2.76579708e-02],\n",
       "          [ 2.67340466e-02,  3.03594917e-02,  4.78402749e-02, ...,\n",
       "            7.46235251e-04, -3.78745012e-02, -3.65615264e-02]],\n",
       " \n",
       "         [[ 5.12128696e-03,  2.46648937e-02,  4.74526733e-02, ...,\n",
       "           -3.19674015e-02, -3.14755104e-02, -5.46332076e-03],\n",
       "          [ 3.33585069e-02,  4.73391488e-02,  9.75548103e-03, ...,\n",
       "           -1.44417845e-02,  2.84864828e-02,  4.64133471e-02],\n",
       "          [-3.80966291e-02, -9.91267338e-03, -1.57720968e-02, ...,\n",
       "           -7.58209825e-03,  3.89419496e-04, -3.11821457e-02],\n",
       "          [ 6.74523413e-03,  4.69763577e-02, -3.82332392e-02, ...,\n",
       "           -3.68522890e-02,  1.77508444e-02, -3.57427783e-02]],\n",
       " \n",
       "         ...,\n",
       " \n",
       "         [[ 7.75238499e-03,  2.28431672e-02, -2.76865531e-02, ...,\n",
       "            2.52393931e-02,  4.81114462e-02, -5.48413768e-03],\n",
       "          [-2.50078123e-02,  3.52757350e-02, -1.53490230e-02, ...,\n",
       "            2.06508860e-02,  4.16744351e-02,  6.82527944e-03],\n",
       "          [-1.78961828e-03,  1.34362876e-02, -1.40763558e-02, ...,\n",
       "           -3.23595814e-02,  1.08338185e-02, -2.94304378e-02],\n",
       "          [ 2.81146914e-02, -1.52190067e-02,  1.87171921e-02, ...,\n",
       "           -4.70836088e-03, -1.09239519e-02, -3.74859199e-02]],\n",
       " \n",
       "         [[-2.52417922e-02,  3.78258675e-02,  3.46126705e-02, ...,\n",
       "            1.71181187e-02, -2.35912874e-02,  3.58509645e-02],\n",
       "          [-2.63646729e-02, -4.14175168e-02,  1.08714625e-02, ...,\n",
       "           -7.11428747e-03, -4.71339934e-02, -2.76074335e-02],\n",
       "          [ 1.17449537e-02,  6.80999458e-03,  8.95544514e-03, ...,\n",
       "           -3.49509045e-02,  2.58563310e-02, -2.05829367e-02],\n",
       "          [-2.98519544e-02, -5.06232195e-02, -3.00860181e-02, ...,\n",
       "            1.27872750e-02,  8.68998468e-04, -1.79018117e-02]],\n",
       " \n",
       "         [[ 2.58606672e-03, -1.78971291e-02, -8.58985633e-03, ...,\n",
       "           -6.69325516e-03, -4.72932309e-03, -3.89218256e-02],\n",
       "          [-3.90638262e-02, -4.03680764e-02, -3.87362614e-02, ...,\n",
       "           -2.18815058e-02, -3.89088094e-02,  3.63170356e-02],\n",
       "          [-3.16562727e-02, -2.88608391e-02,  4.67545986e-02, ...,\n",
       "            1.29178837e-02, -2.31096521e-03, -4.25959416e-02],\n",
       "          [ 1.56152174e-02,  3.41820791e-02, -9.68390331e-03, ...,\n",
       "           -1.61779299e-02, -3.39957066e-02,  9.31340083e-03]]],\n",
       " \n",
       " \n",
       "        [[[ 3.37998345e-02,  1.14460364e-02,  1.96131617e-02, ...,\n",
       "            8.05584714e-03, -2.76419893e-03, -4.53106239e-02],\n",
       "          [-2.61269882e-03,  3.81491259e-02, -4.78496030e-02, ...,\n",
       "            1.53044686e-02, -4.67503257e-02, -1.97775103e-02],\n",
       "          [-3.20960134e-02,  1.03587098e-02, -1.37361735e-02, ...,\n",
       "           -2.77622435e-02,  2.85759196e-03, -2.98231319e-02],\n",
       "          [ 2.30625346e-02,  2.67101377e-02,  3.88624743e-02, ...,\n",
       "           -8.03044438e-03,  2.08556056e-02, -2.76964456e-02]],\n",
       " \n",
       "         [[-4.17779386e-03, -1.94606259e-02, -4.57228683e-02, ...,\n",
       "           -4.81652208e-02, -2.15286836e-02,  5.03284335e-02],\n",
       "          [ 4.93084118e-02,  4.06306088e-02,  3.07423547e-02, ...,\n",
       "           -9.22156870e-03, -3.85792255e-02, -1.16445757e-02],\n",
       "          [ 8.82867724e-04, -1.26568228e-03, -4.46084067e-02, ...,\n",
       "           -4.30901907e-02,  4.34417278e-02, -2.05695536e-02],\n",
       "          [-5.06859533e-02,  3.27949449e-02,  4.61263210e-03, ...,\n",
       "           -4.02482599e-02, -3.47101986e-02, -2.50181183e-03]],\n",
       " \n",
       "         [[ 6.52968511e-03,  1.45700425e-02,  2.47411653e-02, ...,\n",
       "            4.29359153e-02, -1.73626319e-02,  1.51785687e-02],\n",
       "          [ 3.21268812e-02,  1.49328932e-02, -2.77332366e-02, ...,\n",
       "            2.90277079e-02, -1.44823268e-03, -1.41615234e-02],\n",
       "          [-1.91045329e-02, -2.14117114e-02,  4.42365631e-02, ...,\n",
       "           -5.08371852e-02,  4.70158011e-02, -1.51804015e-02],\n",
       "          [ 1.80468485e-02, -3.02030984e-02,  8.96332785e-03, ...,\n",
       "           -2.74547525e-02,  1.58652216e-02,  3.38103324e-02]],\n",
       " \n",
       "         ...,\n",
       " \n",
       "         [[ 4.89806458e-02, -2.45059095e-02,  3.80817726e-02, ...,\n",
       "            2.17831358e-02, -1.98898334e-02, -1.46853141e-02],\n",
       "          [-5.51711768e-04, -4.52516153e-02, -2.16663014e-02, ...,\n",
       "            1.59478188e-03, -1.22990124e-02, -3.44604254e-02],\n",
       "          [ 4.76307422e-03,  7.90786371e-03, -1.38779506e-02, ...,\n",
       "           -2.71970239e-02,  3.91409472e-02, -2.09740978e-02],\n",
       "          [ 5.46581298e-03,  4.31182235e-03, -8.11659545e-03, ...,\n",
       "            1.58771425e-02, -3.02580316e-02,  2.82894522e-02]],\n",
       " \n",
       "         [[-2.75904965e-02,  4.37716842e-02, -4.28232290e-02, ...,\n",
       "            5.80007210e-03,  2.44467407e-02,  3.52601707e-02],\n",
       "          [ 1.05980895e-02, -1.34308711e-02,  9.93720442e-03, ...,\n",
       "            2.89528072e-02,  2.43390054e-02, -2.39084251e-02],\n",
       "          [ 2.48518959e-02,  2.46329084e-02, -4.45719175e-02, ...,\n",
       "           -4.68062200e-02,  2.93230042e-02, -2.38337945e-02],\n",
       "          [ 4.65450734e-02, -4.49449569e-03,  1.09819733e-02, ...,\n",
       "            2.40892321e-02,  1.50777623e-02, -2.35346388e-02]],\n",
       " \n",
       "         [[-3.32641192e-02,  3.09074968e-02, -7.52755627e-03, ...,\n",
       "            2.16841474e-02, -1.58967078e-02,  5.87289035e-03],\n",
       "          [ 1.58285871e-02, -2.47648787e-02, -4.09078300e-02, ...,\n",
       "            7.94665143e-03, -1.25780925e-02, -4.98103984e-02],\n",
       "          [-5.32835349e-03, -4.94644605e-02,  3.71328443e-02, ...,\n",
       "           -2.72992011e-02,  3.77628729e-02,  6.27318770e-03],\n",
       "          [-3.80635969e-02, -2.26529259e-02, -3.82927805e-02, ...,\n",
       "           -6.12548366e-03,  1.05130188e-02,  3.69988233e-02]]],\n",
       " \n",
       " \n",
       "        [[[-3.50144878e-02,  1.60497800e-02,  1.20769814e-02, ...,\n",
       "            1.02906115e-02, -1.42198019e-02, -2.17678696e-02],\n",
       "          [-4.56203148e-03,  4.92455438e-02, -4.49283309e-02, ...,\n",
       "            3.15569043e-02,  3.90159711e-03, -8.71136785e-03],\n",
       "          [-2.03133579e-02,  1.79432034e-02, -4.62106206e-02, ...,\n",
       "            9.45145637e-03, -5.05857170e-04, -7.25678355e-03],\n",
       "          [-3.43957357e-02, -3.65592390e-02, -5.45634702e-03, ...,\n",
       "            1.75536796e-03,  4.72170562e-02, -2.70732157e-02]],\n",
       " \n",
       "         [[ 3.32077965e-03,  1.42192543e-02,  3.29497457e-03, ...,\n",
       "            1.44399703e-03,  3.32149789e-02,  2.95490026e-02],\n",
       "          [-7.90828839e-03, -3.88516001e-02,  1.96336731e-02, ...,\n",
       "            3.09457630e-03,  3.74613702e-02,  3.32321227e-03],\n",
       "          [-6.92988560e-03,  2.45205835e-02,  4.23494056e-02, ...,\n",
       "            4.55133691e-02,  1.15471557e-02, -9.94821265e-03],\n",
       "          [-4.31576930e-02, -3.99732292e-02,  1.49522424e-02, ...,\n",
       "           -4.63584960e-02,  5.03994152e-02, -1.17957108e-02]],\n",
       " \n",
       "         [[-2.40300074e-02,  3.16288322e-02,  5.83267957e-03, ...,\n",
       "            2.52415761e-02, -4.97571081e-02, -3.69537100e-02],\n",
       "          [-1.01491101e-02, -8.83636996e-03, -3.85017581e-02, ...,\n",
       "           -3.32038552e-02,  9.30910558e-03,  1.29843280e-02],\n",
       "          [ 5.17815724e-03, -1.13854855e-02,  2.49286443e-02, ...,\n",
       "            6.66769221e-03, -3.65292244e-02,  1.80654824e-02],\n",
       "          [ 4.55737188e-02, -4.62111086e-02, -2.35881116e-02, ...,\n",
       "            5.40482253e-03,  4.45489958e-02, -2.08996627e-02]],\n",
       " \n",
       "         ...,\n",
       " \n",
       "         [[-1.05970912e-02, -4.44946736e-02, -6.63860515e-03, ...,\n",
       "           -3.09629738e-02,  3.04374844e-04, -1.70053765e-02],\n",
       "          [-1.57898590e-02, -1.63693354e-02,  4.38843518e-02, ...,\n",
       "            1.63544193e-02,  3.95158529e-02,  1.57683492e-02],\n",
       "          [ 4.82143536e-02, -3.65372673e-02,  7.19896704e-03, ...,\n",
       "           -9.14725289e-03, -5.88548183e-03, -6.08289987e-03],\n",
       "          [ 1.75683796e-02,  4.46083322e-02,  4.60973457e-02, ...,\n",
       "            1.92044899e-02, -3.24151367e-02, -4.37312946e-02]],\n",
       " \n",
       "         [[-7.75098428e-03,  7.95910880e-03,  3.80562842e-02, ...,\n",
       "            1.30172893e-02, -3.43988091e-03, -2.74290331e-02],\n",
       "          [-3.95059511e-02,  4.45038080e-02,  4.95144427e-02, ...,\n",
       "           -3.73829640e-02, -2.56403387e-02, -2.42592413e-02],\n",
       "          [-4.40294780e-02, -3.48188207e-02,  2.12837905e-02, ...,\n",
       "           -4.36617248e-02, -5.95098734e-03, -3.49695683e-02],\n",
       "          [-2.30368357e-02,  3.45383584e-03, -2.92142704e-02, ...,\n",
       "           -9.63192433e-04,  3.86056527e-02, -1.10235475e-02]],\n",
       " \n",
       "         [[-1.61178485e-02, -5.44086099e-03, -1.41331367e-02, ...,\n",
       "            3.32837552e-02,  3.20903435e-02, -3.30888927e-02],\n",
       "          [-1.33260451e-02, -3.08972616e-02, -1.09128803e-02, ...,\n",
       "           -6.03271276e-03, -4.96019199e-02, -1.12353824e-02],\n",
       "          [ 4.69827950e-02, -3.12314183e-03,  2.31191665e-02, ...,\n",
       "           -2.96622757e-02, -2.44366806e-02,  1.79899707e-02],\n",
       "          [-2.90012434e-02, -8.04582238e-03, -1.03431232e-02, ...,\n",
       "            2.01900750e-02, -1.86548866e-02,  1.79273114e-02]]],\n",
       " \n",
       " \n",
       "        ...,\n",
       " \n",
       " \n",
       "        [[[ 3.91868874e-03, -7.18654320e-03,  1.99116468e-02, ...,\n",
       "           -4.91798297e-02,  8.93191248e-03, -7.11905584e-03],\n",
       "          [ 5.00531495e-02, -9.59528238e-03, -4.73060310e-02, ...,\n",
       "           -2.34576836e-02, -4.06949222e-02, -4.39283699e-02],\n",
       "          [ 3.11361328e-02, -5.05337231e-02, -1.04345568e-02, ...,\n",
       "           -3.19587365e-02, -4.23976257e-02,  2.25535035e-03],\n",
       "          [-3.01550776e-02,  1.56458318e-02, -3.21763381e-02, ...,\n",
       "            3.01030055e-02,  3.83377820e-03,  3.93162146e-02]],\n",
       " \n",
       "         [[-2.55321711e-03,  5.85862994e-03, -2.97288876e-02, ...,\n",
       "           -2.38699783e-02, -3.33377160e-02, -1.97178461e-02],\n",
       "          [-4.31043431e-02, -3.20717767e-02,  2.87135765e-02, ...,\n",
       "           -2.89592799e-02, -3.02730501e-03,  4.53755409e-02],\n",
       "          [ 8.59603286e-04, -5.08966334e-02, -3.21854502e-02, ...,\n",
       "            4.15506363e-02,  3.92031744e-02, -4.05817106e-03],\n",
       "          [ 1.76151544e-02, -4.55255359e-02,  3.36923897e-02, ...,\n",
       "            4.98941615e-02, -3.40003781e-02,  1.24874786e-02]],\n",
       " \n",
       "         [[-2.47740038e-02, -2.54478715e-02, -2.26771142e-02, ...,\n",
       "            2.97098607e-03,  1.40670612e-02, -1.61774419e-02],\n",
       "          [-2.36266106e-03,  2.36606523e-02,  3.91169190e-02, ...,\n",
       "           -2.67202333e-02, -4.16693836e-02, -4.88584116e-02],\n",
       "          [-3.98337990e-02, -5.53549454e-03, -2.15843339e-02, ...,\n",
       "           -1.36251748e-03,  3.73287499e-02, -2.64743194e-02],\n",
       "          [ 1.60903931e-02, -4.66196686e-02,  3.58117968e-02, ...,\n",
       "           -1.09799542e-02, -4.69570383e-02, -1.27360299e-02]],\n",
       " \n",
       "         ...,\n",
       " \n",
       "         [[ 5.85511327e-04,  3.05941850e-02,  1.98088363e-02, ...,\n",
       "           -1.62161700e-02,  1.58089250e-02,  1.38077885e-02],\n",
       "          [-1.08764768e-02,  4.14678082e-03, -4.54160497e-02, ...,\n",
       "            1.87516361e-02, -3.23435590e-02,  4.53639477e-02],\n",
       "          [-4.84706573e-02, -3.39319408e-02, -3.24075557e-02, ...,\n",
       "           -3.18107046e-02,  4.03820649e-02,  4.75889593e-02],\n",
       "          [ 4.38144505e-02,  2.83023342e-02,  1.84751078e-02, ...,\n",
       "           -3.91568653e-02, -8.30038637e-03, -2.61652712e-02]],\n",
       " \n",
       "         [[ 1.58037618e-03, -4.84291539e-02, -3.06108072e-02, ...,\n",
       "            1.75572038e-02,  2.89942026e-02, -1.44038722e-02],\n",
       "          [-4.80546430e-03,  3.61822546e-02,  1.34953484e-03, ...,\n",
       "            7.83798844e-03,  4.88045588e-02, -2.28538122e-02],\n",
       "          [-2.94558704e-05,  2.97998190e-02,  2.62263343e-02, ...,\n",
       "           -1.73726790e-02, -1.50615685e-02,  4.67794538e-02],\n",
       "          [-2.01115124e-02,  4.40495163e-02, -4.24284190e-02, ...,\n",
       "           -2.14967337e-02, -1.31588504e-02,  4.82449979e-02]],\n",
       " \n",
       "         [[-3.38042751e-02, -3.01700309e-02, -4.18174155e-02, ...,\n",
       "            3.84081230e-02, -6.14448637e-03,  3.55912521e-02],\n",
       "          [ 4.39940989e-02,  7.51900300e-03,  3.25975791e-02, ...,\n",
       "            1.54267922e-02,  1.11110285e-02, -4.53854613e-02],\n",
       "          [-1.19531117e-02, -4.98121977e-02, -3.29584554e-02, ...,\n",
       "           -8.47215578e-03,  1.99991018e-02,  4.17496189e-02],\n",
       "          [ 2.81452015e-03,  4.80023101e-02,  2.75977254e-02, ...,\n",
       "            1.31608918e-03,  4.86746430e-03,  3.72908860e-02]]],\n",
       " \n",
       " \n",
       "        [[[ 5.38720563e-03, -2.77830958e-02, -5.08733578e-02, ...,\n",
       "            5.07032648e-02,  2.69987062e-02, -3.98991220e-02],\n",
       "          [-1.23057663e-02,  1.82185397e-02,  2.65103579e-03, ...,\n",
       "            4.57831547e-02, -3.77340131e-02,  1.65247098e-02],\n",
       "          [ 1.02229752e-02,  9.32929292e-03,  2.03423500e-02, ...,\n",
       "            2.62299776e-02, -4.78316955e-02, -1.37600787e-02],\n",
       "          [ 5.33439219e-04, -2.13380903e-04,  4.95065451e-02, ...,\n",
       "            1.51793435e-02,  3.22254896e-02, -1.00639947e-02]],\n",
       " \n",
       "         [[-3.64634134e-02, -3.80888544e-02,  2.50835717e-03, ...,\n",
       "           -4.48596254e-02, -8.58072191e-03, -9.09006968e-03],\n",
       "          [-2.95650382e-02, -4.55571562e-02,  4.00653780e-02, ...,\n",
       "           -5.02104759e-02, -2.86196098e-02,  1.08731911e-02],\n",
       "          [ 1.63180158e-02, -3.14010754e-02,  1.25157535e-02, ...,\n",
       "            4.92886975e-02,  3.71508449e-02, -2.27231402e-02],\n",
       "          [ 4.52718437e-02, -4.66591492e-02, -1.17591135e-02, ...,\n",
       "           -2.40452588e-04, -1.39458850e-03, -5.04750758e-04]],\n",
       " \n",
       "         [[-2.33705696e-02, -2.75356006e-02, -3.15218791e-02, ...,\n",
       "           -2.75582317e-02,  2.37728134e-02, -5.06798699e-02],\n",
       "          [-1.24790929e-02,  4.29072902e-02,  2.65189260e-02, ...,\n",
       "           -5.07615097e-02,  3.66829857e-02, -1.97486505e-02],\n",
       "          [ 2.80626118e-03, -3.09442002e-02,  3.47659588e-02, ...,\n",
       "            2.80255899e-02, -4.83571403e-02, -3.51871848e-02],\n",
       "          [-4.24841903e-02,  3.25447693e-02,  3.08051556e-02, ...,\n",
       "           -1.71331279e-02,  2.25910842e-02,  3.94039974e-02]],\n",
       " \n",
       "         ...,\n",
       " \n",
       "         [[-1.29353106e-02,  2.22530812e-02, -2.03797407e-02, ...,\n",
       "           -1.75631978e-02,  4.50628847e-02,  1.95897669e-02],\n",
       "          [ 4.67796251e-02, -2.35152990e-03,  1.34254098e-02, ...,\n",
       "            4.88995686e-02, -2.98654605e-02,  2.39693671e-02],\n",
       "          [-1.69229954e-02, -2.59027630e-02,  1.67219788e-02, ...,\n",
       "            1.14190951e-03,  4.76347059e-02,  3.43207642e-02],\n",
       "          [-3.46102342e-02, -4.17326503e-02,  4.76564914e-02, ...,\n",
       "            3.25826332e-02,  3.52654755e-02, -1.69019736e-02]],\n",
       " \n",
       "         [[ 1.05283000e-02,  3.56070474e-02,  3.30469683e-02, ...,\n",
       "            8.29258934e-03, -2.99119130e-02,  1.91654637e-02],\n",
       "          [ 1.27549097e-02, -3.85008380e-03, -3.84240858e-02, ...,\n",
       "            7.13212416e-03, -1.86067149e-02, -4.66409698e-03],\n",
       "          [-4.18391079e-02, -5.71901724e-03,  3.81034538e-02, ...,\n",
       "            4.01432589e-02,  1.67332590e-02, -4.89004962e-02],\n",
       "          [-1.12559572e-02, -3.61938849e-02,  3.00316215e-02, ...,\n",
       "            2.33284235e-02, -2.29974464e-03, -3.95419411e-02]],\n",
       " \n",
       "         [[-1.50789209e-02,  4.97573465e-02,  2.88418606e-02, ...,\n",
       "            1.98864415e-02, -3.16700079e-02,  4.11981866e-02],\n",
       "          [-1.16800778e-02,  3.94914970e-02,  2.43462473e-02, ...,\n",
       "            8.64765048e-03,  4.58384529e-02,  4.08262014e-02],\n",
       "          [-3.18108015e-02, -2.59386543e-02,  4.15680334e-02, ...,\n",
       "            3.47666293e-02, -4.64907363e-02,  2.45330036e-02],\n",
       "          [-1.19500197e-02,  2.32695714e-02, -4.53719683e-02, ...,\n",
       "            9.53032449e-03, -4.43296544e-02, -4.06126268e-02]]],\n",
       " \n",
       " \n",
       "        [[[-2.63256952e-03, -3.69744673e-02,  4.26939204e-02, ...,\n",
       "           -4.73354757e-03,  3.76913771e-02, -3.26733999e-02],\n",
       "          [-3.98806520e-02, -4.24040109e-02, -7.66612217e-03, ...,\n",
       "            2.90385932e-02, -3.26589495e-03, -2.85893753e-02],\n",
       "          [ 4.95670885e-02, -3.31332535e-02,  4.09568101e-02, ...,\n",
       "           -1.14241242e-02, -2.53770612e-02, -3.46616767e-02],\n",
       "          [-2.40918752e-02,  3.86462361e-02,  4.23947424e-02, ...,\n",
       "            2.38402709e-02, -4.93285581e-02,  6.47101551e-04]],\n",
       " \n",
       "         [[-4.76136282e-02,  2.93802992e-02,  4.41859066e-02, ...,\n",
       "            9.13595036e-03, -3.60146202e-02, -2.55416166e-02],\n",
       "          [-1.68583319e-02,  9.03300568e-03,  1.09465085e-02, ...,\n",
       "           -9.69268754e-03,  1.72437504e-02,  4.53857258e-02],\n",
       "          [-3.39709222e-04,  3.27620953e-02,  8.16164911e-03, ...,\n",
       "           -3.30833718e-02,  1.59154087e-02, -4.03017662e-02],\n",
       "          [-5.10222912e-02,  2.72615477e-02,  4.84539270e-02, ...,\n",
       "            2.16559693e-03,  5.20176068e-03, -3.09830736e-02]],\n",
       " \n",
       "         [[-7.26661459e-03,  3.92270535e-02, -1.41530670e-02, ...,\n",
       "            4.24618050e-02,  2.10289732e-02,  1.79267898e-02],\n",
       "          [-1.05924569e-02, -3.31312120e-02, -3.74350138e-02, ...,\n",
       "            2.85890847e-02,  4.32550907e-04,  1.08139403e-02],\n",
       "          [ 4.39703241e-02, -8.38439912e-03, -3.23527195e-02, ...,\n",
       "            3.64838690e-02, -2.32644640e-02, -3.93334515e-02],\n",
       "          [-6.15327060e-03, -2.63958313e-02, -2.64957082e-02, ...,\n",
       "           -2.65241172e-02,  5.07965833e-02, -1.45727955e-02]],\n",
       " \n",
       "         ...,\n",
       " \n",
       "         [[ 4.60353568e-02,  4.71802056e-03,  4.04578149e-02, ...,\n",
       "           -2.84546278e-02,  3.89686897e-02,  2.38286704e-02],\n",
       "          [-3.86912897e-02, -2.04866007e-03, -1.55610219e-03, ...,\n",
       "            2.52869204e-02,  1.64409354e-03, -3.93476523e-02],\n",
       "          [-4.14992049e-02, -4.44315374e-02,  4.48920205e-03, ...,\n",
       "           -2.09672246e-02,  1.90263242e-02, -1.65352412e-02],\n",
       "          [ 2.47672424e-02,  1.84634924e-02,  2.45821327e-02, ...,\n",
       "            1.30653679e-02, -4.70742881e-02, -4.54780832e-03]],\n",
       " \n",
       "         [[-5.07228896e-02, -2.69473512e-02,  2.89341435e-02, ...,\n",
       "           -2.70740315e-02,  5.20670041e-03, -2.53478494e-02],\n",
       "          [ 4.14381772e-02,  4.64095846e-02, -4.44576144e-05, ...,\n",
       "           -2.39232089e-02, -9.98353586e-03, -2.68014222e-02],\n",
       "          [-3.62630635e-02,  3.01921889e-02, -3.78695130e-02, ...,\n",
       "           -3.63937095e-02, -2.67749969e-02,  4.22431901e-02],\n",
       "          [-8.49765912e-03,  2.03588530e-02, -1.11358464e-02, ...,\n",
       "            3.15529779e-02, -1.72302090e-02, -3.80589627e-02]],\n",
       " \n",
       "         [[ 4.26882878e-02,  1.82799697e-02,  3.12791765e-02, ...,\n",
       "           -2.73857545e-02,  1.54229701e-02, -4.78393845e-02],\n",
       "          [ 4.74323854e-02,  1.89184174e-02,  3.52578983e-03, ...,\n",
       "           -4.10113931e-02,  3.76467258e-02,  4.22756523e-02],\n",
       "          [-2.80441586e-02,  1.80469602e-02,  3.78050804e-02, ...,\n",
       "            2.75360271e-02,  7.30945170e-03,  1.19477063e-02],\n",
       "          [-1.38882920e-02,  2.87150443e-02, -5.00813611e-02, ...,\n",
       "            2.52520368e-02, -3.51614133e-03, -1.41032934e-02]]]],\n",
       "       dtype=float32)>,\n",
       " <tf.Variable 'conv1_layer_4/bias:0' shape=(32,) dtype=float32, numpy=\n",
       " array([0., 0., 0., 0., 0., 0., 0., 0., 0., 0., 0., 0., 0., 0., 0., 0., 0.,\n",
       "        0., 0., 0., 0., 0., 0., 0., 0., 0., 0., 0., 0., 0., 0., 0.],\n",
       "       dtype=float32)>,\n",
       " <tf.Variable 'conv2_layer_4/kernel:0' shape=(4, 4, 32, 64) dtype=float32, numpy=\n",
       " array([[[[-0.05407648,  0.01729359,  0.05277634, ..., -0.01740378,\n",
       "            0.01554035,  0.0291208 ],\n",
       "          [ 0.02851054, -0.05930781,  0.0028581 , ...,  0.06182298,\n",
       "            0.01880756, -0.0493886 ],\n",
       "          [-0.05506402,  0.02343301,  0.0245899 , ..., -0.02715938,\n",
       "           -0.00242364,  0.06138003],\n",
       "          ...,\n",
       "          [-0.01267259, -0.03708203,  0.06004578, ..., -0.04196346,\n",
       "            0.0531594 , -0.05983143],\n",
       "          [-0.03221688, -0.02736883,  0.05632788, ...,  0.00076227,\n",
       "            0.05293517,  0.00545108],\n",
       "          [-0.02314724, -0.05523656, -0.05435319, ...,  0.04571056,\n",
       "            0.01570717, -0.04125828]],\n",
       " \n",
       "         [[ 0.04505233, -0.00945756,  0.05903468, ...,  0.02750391,\n",
       "            0.01198536,  0.04976937],\n",
       "          [ 0.00324215, -0.05579956, -0.0003942 , ..., -0.04643862,\n",
       "           -0.05755658,  0.02316421],\n",
       "          [-0.0586538 ,  0.0048777 , -0.00664578, ..., -0.03520919,\n",
       "            0.00182141, -0.02313516],\n",
       "          ...,\n",
       "          [ 0.0505611 ,  0.02611871, -0.03046094, ...,  0.00043726,\n",
       "            0.02013467, -0.01493633],\n",
       "          [-0.02045912,  0.04987812, -0.01870133, ...,  0.04275039,\n",
       "           -0.02582972,  0.01454796],\n",
       "          [-0.03269269,  0.03495663, -0.02606677, ...,  0.01801899,\n",
       "            0.02505425,  0.05764887]],\n",
       " \n",
       "         [[ 0.03181519, -0.00767021, -0.0489459 , ..., -0.04574034,\n",
       "           -0.05472556,  0.00568685],\n",
       "          [-0.02504639,  0.04510644, -0.00667509, ...,  0.0388473 ,\n",
       "           -0.03430834, -0.04086739],\n",
       "          [-0.04010902, -0.05605461, -0.00574148, ..., -0.01329777,\n",
       "           -0.03947833, -0.04542038],\n",
       "          ...,\n",
       "          [ 0.02783781, -0.00441523,  0.05786091, ...,  0.01795523,\n",
       "            0.02440055, -0.02659178],\n",
       "          [ 0.0124175 , -0.00631432, -0.05315633, ..., -0.01563111,\n",
       "            0.00594845, -0.02297933],\n",
       "          [ 0.01423366, -0.06102715,  0.00444733, ..., -0.03620024,\n",
       "            0.05272391, -0.040529  ]],\n",
       " \n",
       "         [[-0.00097802,  0.04055995, -0.04173176, ..., -0.05994523,\n",
       "           -0.05708067,  0.03261776],\n",
       "          [ 0.00915205, -0.0172427 ,  0.02010657, ...,  0.05473544,\n",
       "            0.0411846 ,  0.02950051],\n",
       "          [-0.01996033,  0.04461138, -0.0272693 , ...,  0.058917  ,\n",
       "           -0.0013475 ,  0.03542103],\n",
       "          ...,\n",
       "          [ 0.00330488, -0.01406883, -0.02653915, ...,  0.0319925 ,\n",
       "            0.05651391, -0.06146066],\n",
       "          [ 0.03844725, -0.02197602, -0.00497819, ...,  0.04191382,\n",
       "           -0.04944374,  0.0079415 ],\n",
       "          [-0.02023795,  0.02547662, -0.03771438, ...,  0.05780701,\n",
       "           -0.03353572,  0.02191086]]],\n",
       " \n",
       " \n",
       "        [[[ 0.03801589, -0.06187974, -0.02354589, ...,  0.00578219,\n",
       "            0.03423439, -0.06135187],\n",
       "          [ 0.00835635,  0.00057524, -0.02648619, ...,  0.02948076,\n",
       "            0.02693832,  0.0178519 ],\n",
       "          [ 0.00619911,  0.06101143,  0.02937655, ..., -0.05086063,\n",
       "           -0.05106245, -0.04058078],\n",
       "          ...,\n",
       "          [-0.01871103, -0.03689438,  0.01612669, ...,  0.01950499,\n",
       "           -0.05040807,  0.04847822],\n",
       "          [ 0.05235402,  0.01676147, -0.01973943, ...,  0.04517874,\n",
       "            0.04805347,  0.03958569],\n",
       "          [ 0.04714875, -0.04959574, -0.00819822, ...,  0.05834074,\n",
       "           -0.01159601,  0.00064184]],\n",
       " \n",
       "         [[-0.03072669, -0.03105636, -0.04463634, ...,  0.01447481,\n",
       "            0.01589572, -0.05793044],\n",
       "          [-0.04950435, -0.01424579,  0.02434462, ..., -0.05178031,\n",
       "           -0.02051429, -0.04999931],\n",
       "          [ 0.03453383,  0.02312301, -0.03579757, ..., -0.04596364,\n",
       "           -0.01710173, -0.0573875 ],\n",
       "          ...,\n",
       "          [-0.00488396, -0.05167194, -0.02034463, ...,  0.05281098,\n",
       "            0.00998546, -0.06144181],\n",
       "          [-0.01320031, -0.0086727 , -0.04183985, ..., -0.01785442,\n",
       "            0.06051347,  0.00622821],\n",
       "          [ 0.03541921, -0.04684387,  0.06146826, ...,  0.05567682,\n",
       "            0.01091152,  0.03199443]],\n",
       " \n",
       "         [[ 0.00792819,  0.02181543,  0.02429882, ..., -0.04792176,\n",
       "           -0.03227419, -0.04182109],\n",
       "          [ 0.00960171,  0.02367306, -0.03159307, ..., -0.0616838 ,\n",
       "           -0.02739084,  0.01330723],\n",
       "          [ 0.02585445, -0.02713329, -0.00559029, ...,  0.04289052,\n",
       "            0.02602999,  0.00116768],\n",
       "          ...,\n",
       "          [-0.01021081, -0.05660853,  0.04720899, ...,  0.03941233,\n",
       "           -0.00068344,  0.05920392],\n",
       "          [ 0.01169541,  0.03548947,  0.04795064, ..., -0.04301696,\n",
       "           -0.01049063,  0.02599929],\n",
       "          [-0.05402206, -0.02325703,  0.01660082, ..., -0.05313531,\n",
       "           -0.01078586,  0.04198453]],\n",
       " \n",
       "         [[-0.02912806, -0.05911291, -0.03162551, ..., -0.04490303,\n",
       "            0.00129917,  0.01741476],\n",
       "          [ 0.0014971 ,  0.0012441 , -0.01238649, ...,  0.05834064,\n",
       "           -0.03448452,  0.04338025],\n",
       "          [ 0.01909056, -0.03483786, -0.04596165, ...,  0.01293606,\n",
       "           -0.0407304 ,  0.00350565],\n",
       "          ...,\n",
       "          [ 0.03667894, -0.01647598, -0.00705226, ...,  0.0243375 ,\n",
       "           -0.03583311,  0.04223242],\n",
       "          [ 0.02361891, -0.04490958, -0.01126751, ...,  0.01202042,\n",
       "            0.01272537,  0.03571385],\n",
       "          [-0.00881639,  0.02318449,  0.01040676, ...,  0.02849443,\n",
       "           -0.03261261,  0.04391488]]],\n",
       " \n",
       " \n",
       "        [[[-0.00211291, -0.05479699, -0.0448399 , ..., -0.05938657,\n",
       "           -0.03306137, -0.02248552],\n",
       "          [ 0.06182307,  0.04893994,  0.02729701, ...,  0.01479381,\n",
       "           -0.02039525, -0.02611591],\n",
       "          [ 0.0170138 , -0.02122104, -0.01107055, ..., -0.01123495,\n",
       "            0.01772238, -0.04438488],\n",
       "          ...,\n",
       "          [-0.00650568, -0.05585921,  0.03096901, ...,  0.00701118,\n",
       "            0.02309836, -0.05281541],\n",
       "          [-0.03177704,  0.02277519, -0.01014671, ...,  0.01437508,\n",
       "           -0.01996307, -0.01781094],\n",
       "          [ 0.03085476,  0.03104401, -0.03908686, ..., -0.04017331,\n",
       "           -0.04520559, -0.00468746]],\n",
       " \n",
       "         [[ 0.05517352, -0.0098542 ,  0.04078577, ...,  0.00884475,\n",
       "           -0.00620131,  0.02781868],\n",
       "          [-0.00274985,  0.04448824,  0.05651186, ...,  0.02949268,\n",
       "           -0.01591964,  0.00496113],\n",
       "          [-0.00960857, -0.05716197,  0.04669325, ..., -0.04428242,\n",
       "           -0.00074652,  0.00125153],\n",
       "          ...,\n",
       "          [-0.05001467, -0.05554359,  0.04502954, ..., -0.02166608,\n",
       "            0.00176813,  0.03519957],\n",
       "          [-0.02332227, -0.06161998, -0.03551409, ..., -0.01747215,\n",
       "            0.05864735, -0.03141849],\n",
       "          [-0.04667127, -0.02675012,  0.02577069, ..., -0.05943941,\n",
       "           -0.01883772,  0.03607267]],\n",
       " \n",
       "         [[ 0.0194819 , -0.00575882, -0.02635601, ..., -0.0490779 ,\n",
       "            0.04310769, -0.0067431 ],\n",
       "          [-0.02619413,  0.01588024,  0.00324586, ...,  0.01230001,\n",
       "            0.02169316,  0.00790049],\n",
       "          [-0.05141   ,  0.01700176, -0.02784829, ...,  0.01595433,\n",
       "            0.05354182, -0.03465883],\n",
       "          ...,\n",
       "          [-0.00143977, -0.0187021 , -0.01595423, ...,  0.02139308,\n",
       "            0.04608659,  0.04024567],\n",
       "          [ 0.02490053, -0.02052233, -0.01953979, ...,  0.02083524,\n",
       "            0.05390888,  0.05344421],\n",
       "          [-0.04866977,  0.01409133, -0.01770641, ...,  0.01497062,\n",
       "            0.01956493, -0.02055807]],\n",
       " \n",
       "         [[-0.01353496,  0.0486647 , -0.03283732, ..., -0.01873042,\n",
       "            0.04638126, -0.0542797 ],\n",
       "          [ 0.03026742,  0.01328412,  0.02234381, ...,  0.05827838,\n",
       "            0.00383674, -0.04301517],\n",
       "          [ 0.03366067, -0.04327109, -0.02220184, ..., -0.0363068 ,\n",
       "            0.03227764, -0.03309084],\n",
       "          ...,\n",
       "          [-0.04953089,  0.01654747, -0.00352982, ..., -0.00803426,\n",
       "            0.04034121,  0.04750676],\n",
       "          [ 0.0214268 ,  0.00705919,  0.02710123, ..., -0.04001369,\n",
       "            0.02842835, -0.0584624 ],\n",
       "          [ 0.01685016,  0.04327422,  0.03237796, ..., -0.0032462 ,\n",
       "           -0.01430778,  0.00976509]]],\n",
       " \n",
       " \n",
       "        [[[ 0.05905581,  0.05043097, -0.03780025, ..., -0.0155322 ,\n",
       "            0.00269835, -0.02421334],\n",
       "          [-0.03672875, -0.03085548,  0.020584  , ...,  0.00513822,\n",
       "            0.00129175,  0.02122942],\n",
       "          [-0.06082696, -0.04163349,  0.04214267, ...,  0.06194542,\n",
       "            0.01352942, -0.02238648],\n",
       "          ...,\n",
       "          [-0.03994119, -0.0395253 ,  0.0347648 , ..., -0.01819544,\n",
       "           -0.03614752,  0.05097374],\n",
       "          [ 0.0100082 , -0.02840172, -0.00154993, ..., -0.00552611,\n",
       "           -0.0615066 , -0.04010047],\n",
       "          [-0.05499822, -0.01957953, -0.05021292, ...,  0.04746166,\n",
       "           -0.02942203, -0.05178665]],\n",
       " \n",
       "         [[-0.02984938, -0.03934333, -0.00592938, ...,  0.01774871,\n",
       "           -0.02386409, -0.000919  ],\n",
       "          [-0.02983099,  0.05073167, -0.04582679, ..., -0.00181827,\n",
       "           -0.05768895,  0.00770423],\n",
       "          [-0.00633761, -0.01957993, -0.04572272, ..., -0.04267156,\n",
       "           -0.03652765,  0.01655854],\n",
       "          ...,\n",
       "          [ 0.04489958,  0.04288553, -0.03837378, ..., -0.01304872,\n",
       "           -0.05777192, -0.02143547],\n",
       "          [-0.01118043, -0.02730794,  0.01629043, ...,  0.04337089,\n",
       "            0.04549162, -0.04546458],\n",
       "          [-0.00575338, -0.0136075 ,  0.00572726, ..., -0.01191185,\n",
       "           -0.05791172,  0.05505207]],\n",
       " \n",
       "         [[ 0.05710323, -0.04880759, -0.03242524, ...,  0.02712096,\n",
       "           -0.02127592, -0.02241753],\n",
       "          [-0.05731873,  0.00735551,  0.04677036, ..., -0.02462083,\n",
       "           -0.00500192, -0.04224874],\n",
       "          [-0.0247259 , -0.05247127,  0.04954354, ...,  0.02151428,\n",
       "            0.04443133,  0.0371504 ],\n",
       "          ...,\n",
       "          [ 0.02598585,  0.03756888, -0.04795536, ...,  0.04136728,\n",
       "            0.01317579,  0.00746901],\n",
       "          [-0.01983598,  0.00720704,  0.00611505, ...,  0.05858415,\n",
       "           -0.04825681,  0.0463704 ],\n",
       "          [-0.03990495,  0.0012012 , -0.03995986, ..., -0.0402035 ,\n",
       "            0.0116103 ,  0.03592679]],\n",
       " \n",
       "         [[ 0.01731095, -0.04176374, -0.03648224, ..., -0.03340513,\n",
       "            0.02154821, -0.03984231],\n",
       "          [-0.02541281,  0.01522174, -0.03753486, ...,  0.06067964,\n",
       "            0.05796568, -0.01259698],\n",
       "          [ 0.04458323,  0.0489677 ,  0.00200446, ..., -0.0161376 ,\n",
       "           -0.04014549, -0.02496856],\n",
       "          ...,\n",
       "          [ 0.0345557 ,  0.00568616, -0.02277499, ..., -0.0566815 ,\n",
       "            0.01990141, -0.02702957],\n",
       "          [ 0.03279504,  0.02055681,  0.05195023, ..., -0.03509688,\n",
       "            0.03615125, -0.01840806],\n",
       "          [-0.04484539, -0.02773802, -0.03544813, ...,  0.04911472,\n",
       "           -0.04184629,  0.00601617]]]], dtype=float32)>,\n",
       " <tf.Variable 'conv2_layer_4/bias:0' shape=(64,) dtype=float32, numpy=\n",
       " array([0., 0., 0., 0., 0., 0., 0., 0., 0., 0., 0., 0., 0., 0., 0., 0., 0.,\n",
       "        0., 0., 0., 0., 0., 0., 0., 0., 0., 0., 0., 0., 0., 0., 0., 0., 0.,\n",
       "        0., 0., 0., 0., 0., 0., 0., 0., 0., 0., 0., 0., 0., 0., 0., 0., 0.,\n",
       "        0., 0., 0., 0., 0., 0., 0., 0., 0., 0., 0., 0., 0.], dtype=float32)>,\n",
       " <tf.Variable 'conv3_layer_4/kernel:0' shape=(3, 3, 64, 64) dtype=float32, numpy=\n",
       " array([[[[-0.01703111, -0.05589196, -0.00549366, ...,  0.06231847,\n",
       "           -0.04972513, -0.04207847],\n",
       "          [ 0.02327996,  0.00901995,  0.06226417, ..., -0.03308692,\n",
       "            0.04617158, -0.02728834],\n",
       "          [-0.04099163, -0.07061339, -0.06928922, ..., -0.06103823,\n",
       "            0.05202412,  0.05477387],\n",
       "          ...,\n",
       "          [ 0.04383702,  0.00569542, -0.06518897, ..., -0.01999966,\n",
       "           -0.05498315,  0.00898049],\n",
       "          [ 0.06318288,  0.06448899, -0.05193675, ..., -0.00668578,\n",
       "           -0.01686186, -0.06583594],\n",
       "          [ 0.06699698,  0.06400228, -0.01797352, ..., -0.05330054,\n",
       "           -0.0012586 , -0.02247186]],\n",
       " \n",
       "         [[-0.04703972,  0.05871423, -0.00781471, ...,  0.02260538,\n",
       "           -0.04043988, -0.03509227],\n",
       "          [-0.02048605,  0.001009  ,  0.00821412, ...,  0.02443416,\n",
       "           -0.02089424, -0.06683642],\n",
       "          [ 0.00139556, -0.019426  , -0.04316796, ..., -0.0231369 ,\n",
       "            0.0104508 ,  0.05152053],\n",
       "          ...,\n",
       "          [ 0.0301953 ,  0.00840157,  0.06669074, ...,  0.01945475,\n",
       "           -0.04369252, -0.03960941],\n",
       "          [ 0.05828631,  0.03416061, -0.03744175, ..., -0.00856458,\n",
       "            0.06468235,  0.02340143],\n",
       "          [ 0.00129571,  0.01897767, -0.06928174, ...,  0.00049735,\n",
       "           -0.0121109 ,  0.0709945 ]],\n",
       " \n",
       "         [[ 0.00050468,  0.02907274,  0.06676839, ..., -0.02846467,\n",
       "           -0.06418222, -0.03258258],\n",
       "          [-0.02974272,  0.06677523, -0.04612777, ..., -0.00535526,\n",
       "            0.06077668, -0.04454974],\n",
       "          [ 0.02738447, -0.05621891,  0.02022904, ..., -0.06273054,\n",
       "            0.0207028 , -0.05131389],\n",
       "          ...,\n",
       "          [-0.05414359, -0.00891449, -0.00361109, ..., -0.02794233,\n",
       "           -0.06411333, -0.05316252],\n",
       "          [ 0.03217509, -0.04889237,  0.02614182, ..., -0.05934329,\n",
       "            0.00106782,  0.01516486],\n",
       "          [ 0.02733863,  0.02209745, -0.04789641, ..., -0.04390973,\n",
       "           -0.06018998,  0.03305492]]],\n",
       " \n",
       " \n",
       "        [[[ 0.04681648, -0.05960695,  0.03549334, ..., -0.01569117,\n",
       "            0.00500492, -0.04320444],\n",
       "          [ 0.05063921, -0.00312976,  0.06284705, ...,  0.02557033,\n",
       "           -0.01386135,  0.06496933],\n",
       "          [-0.02464007, -0.04195848, -0.0448174 , ...,  0.06623133,\n",
       "            0.00514053,  0.02707738],\n",
       "          ...,\n",
       "          [-0.07107325,  0.03455108, -0.01093856, ..., -0.07023329,\n",
       "           -0.04495497, -0.02179028],\n",
       "          [ 0.06332004,  0.01478491, -0.02003614, ...,  0.04769237,\n",
       "           -0.01908337,  0.02560049],\n",
       "          [-0.0047949 ,  0.04322717,  0.0145295 , ...,  0.03963938,\n",
       "           -0.0564368 ,  0.0644962 ]],\n",
       " \n",
       "         [[-0.04649427,  0.06332681,  0.02656319, ...,  0.05872352,\n",
       "            0.02130914, -0.01338866],\n",
       "          [ 0.06358929,  0.04170938, -0.06311762, ...,  0.00859937,\n",
       "           -0.01251513, -0.05297613],\n",
       "          [-0.06353639,  0.01714247, -0.02470277, ..., -0.00082613,\n",
       "            0.0024696 ,  0.06786935],\n",
       "          ...,\n",
       "          [-0.04652118,  0.04767393,  0.0366267 , ...,  0.05439584,\n",
       "           -0.0233813 , -0.06751636],\n",
       "          [-0.06347044,  0.06927648, -0.01341994, ..., -0.03465933,\n",
       "           -0.06291386,  0.0550462 ],\n",
       "          [ 0.01689534, -0.06473958,  0.0020366 , ...,  0.01381922,\n",
       "            0.04203101,  0.00846902]],\n",
       " \n",
       "         [[ 0.0009358 , -0.04413068, -0.02894889, ..., -0.07206535,\n",
       "           -0.05047557, -0.05952708],\n",
       "          [ 0.02441649,  0.06772473,  0.00388195, ..., -0.05770557,\n",
       "           -0.06970636, -0.07165854],\n",
       "          [ 0.02188438, -0.02258189, -0.06754261, ...,  0.06470875,\n",
       "            0.01068398,  0.01843271],\n",
       "          ...,\n",
       "          [ 0.02083471,  0.06348452, -0.06796222, ..., -0.06569242,\n",
       "           -0.00063924,  0.02479756],\n",
       "          [ 0.03252754, -0.01821472,  0.01135972, ...,  0.03062151,\n",
       "           -0.05533654,  0.01379704],\n",
       "          [-0.0703105 , -0.01648583, -0.00089358, ..., -0.06903739,\n",
       "           -0.01422616,  0.04638757]]],\n",
       " \n",
       " \n",
       "        [[[ 0.0676859 , -0.07088435,  0.00329793, ..., -0.04046617,\n",
       "           -0.04853895,  0.00732173],\n",
       "          [-0.04055531,  0.05705734, -0.01519459, ..., -0.01752593,\n",
       "           -0.06334802, -0.04684898],\n",
       "          [ 0.0704506 , -0.06907943,  0.00284478, ...,  0.06332259,\n",
       "            0.06682493, -0.07049681],\n",
       "          ...,\n",
       "          [ 0.04347622,  0.04969431, -0.06320558, ...,  0.06208554,\n",
       "           -0.02173682, -0.00084358],\n",
       "          [ 0.05513078,  0.00602335, -0.05693166, ..., -0.03586222,\n",
       "           -0.04778048, -0.03273514],\n",
       "          [-0.04849477, -0.04641329, -0.01057344, ..., -0.02892268,\n",
       "           -0.02904349,  0.02849991]],\n",
       " \n",
       "         [[ 0.04496018, -0.00466435,  0.05223924, ..., -0.06411661,\n",
       "           -0.06920598, -0.04402956],\n",
       "          [ 0.01914944, -0.00386719,  0.03059595, ...,  0.03728772,\n",
       "            0.02259185,  0.02842208],\n",
       "          [-0.04541458, -0.00750833, -0.06055277, ..., -0.02001721,\n",
       "           -0.02158463, -0.05403775],\n",
       "          ...,\n",
       "          [ 0.02740771, -0.05852269, -0.01349643, ...,  0.0056487 ,\n",
       "            0.03921185,  0.02499689],\n",
       "          [-0.06945977, -0.02152681,  0.03493419, ...,  0.02446035,\n",
       "           -0.06610689,  0.03911872],\n",
       "          [ 0.01871796, -0.05415192, -0.04740459, ..., -0.00033458,\n",
       "            0.0204144 ,  0.0704692 ]],\n",
       " \n",
       "         [[-0.00683608, -0.03792076,  0.00843121, ..., -0.00642445,\n",
       "           -0.03557586, -0.02368135],\n",
       "          [-0.06152741, -0.02922713,  0.04839117, ...,  0.03534532,\n",
       "           -0.03520833, -0.02003712],\n",
       "          [ 0.00444167,  0.01266059, -0.0225496 , ...,  0.01723572,\n",
       "            0.04491928,  0.03219978],\n",
       "          ...,\n",
       "          [-0.00781158, -0.06423157,  0.06471948, ..., -0.04601901,\n",
       "            0.00231531, -0.07057678],\n",
       "          [-0.04071012, -0.05550098, -0.01224944, ...,  0.00165044,\n",
       "           -0.04680138,  0.03957567],\n",
       "          [-0.00218794, -0.00371491, -0.00337235, ..., -0.06394677,\n",
       "           -0.02004965,  0.05532892]]]], dtype=float32)>,\n",
       " <tf.Variable 'conv3_layer_4/bias:0' shape=(64,) dtype=float32, numpy=\n",
       " array([0., 0., 0., 0., 0., 0., 0., 0., 0., 0., 0., 0., 0., 0., 0., 0., 0.,\n",
       "        0., 0., 0., 0., 0., 0., 0., 0., 0., 0., 0., 0., 0., 0., 0., 0., 0.,\n",
       "        0., 0., 0., 0., 0., 0., 0., 0., 0., 0., 0., 0., 0., 0., 0., 0., 0.,\n",
       "        0., 0., 0., 0., 0., 0., 0., 0., 0., 0., 0., 0., 0.], dtype=float32)>,\n",
       " <tf.Variable 'fc1_4/kernel:0' shape=(6144, 512) dtype=float32, numpy=\n",
       " array([[-0.00876563,  0.00876342, -0.00118347, ..., -0.02461719,\n",
       "         -0.02236048, -0.00245609],\n",
       "        [-0.02505477,  0.01770962, -0.00311031, ..., -0.01971119,\n",
       "         -0.02698313,  0.01552169],\n",
       "        [ 0.02748403, -0.01913634,  0.02043679, ..., -0.01399537,\n",
       "         -0.00671006,  0.02124198],\n",
       "        ...,\n",
       "        [ 0.01848739, -0.02219774, -0.02962702, ..., -0.02089028,\n",
       "          0.02363941,  0.00255372],\n",
       "        [ 0.02754276,  0.02560355,  0.01195317, ..., -0.01898411,\n",
       "          0.01699626,  0.01733189],\n",
       "        [ 0.01696707,  0.00212208, -0.0271844 , ...,  0.01119379,\n",
       "          0.02807313,  0.02082682]], dtype=float32)>,\n",
       " <tf.Variable 'fc1_4/bias:0' shape=(512,) dtype=float32, numpy=\n",
       " array([0., 0., 0., 0., 0., 0., 0., 0., 0., 0., 0., 0., 0., 0., 0., 0., 0.,\n",
       "        0., 0., 0., 0., 0., 0., 0., 0., 0., 0., 0., 0., 0., 0., 0., 0., 0.,\n",
       "        0., 0., 0., 0., 0., 0., 0., 0., 0., 0., 0., 0., 0., 0., 0., 0., 0.,\n",
       "        0., 0., 0., 0., 0., 0., 0., 0., 0., 0., 0., 0., 0., 0., 0., 0., 0.,\n",
       "        0., 0., 0., 0., 0., 0., 0., 0., 0., 0., 0., 0., 0., 0., 0., 0., 0.,\n",
       "        0., 0., 0., 0., 0., 0., 0., 0., 0., 0., 0., 0., 0., 0., 0., 0., 0.,\n",
       "        0., 0., 0., 0., 0., 0., 0., 0., 0., 0., 0., 0., 0., 0., 0., 0., 0.,\n",
       "        0., 0., 0., 0., 0., 0., 0., 0., 0., 0., 0., 0., 0., 0., 0., 0., 0.,\n",
       "        0., 0., 0., 0., 0., 0., 0., 0., 0., 0., 0., 0., 0., 0., 0., 0., 0.,\n",
       "        0., 0., 0., 0., 0., 0., 0., 0., 0., 0., 0., 0., 0., 0., 0., 0., 0.,\n",
       "        0., 0., 0., 0., 0., 0., 0., 0., 0., 0., 0., 0., 0., 0., 0., 0., 0.,\n",
       "        0., 0., 0., 0., 0., 0., 0., 0., 0., 0., 0., 0., 0., 0., 0., 0., 0.,\n",
       "        0., 0., 0., 0., 0., 0., 0., 0., 0., 0., 0., 0., 0., 0., 0., 0., 0.,\n",
       "        0., 0., 0., 0., 0., 0., 0., 0., 0., 0., 0., 0., 0., 0., 0., 0., 0.,\n",
       "        0., 0., 0., 0., 0., 0., 0., 0., 0., 0., 0., 0., 0., 0., 0., 0., 0.,\n",
       "        0., 0., 0., 0., 0., 0., 0., 0., 0., 0., 0., 0., 0., 0., 0., 0., 0.,\n",
       "        0., 0., 0., 0., 0., 0., 0., 0., 0., 0., 0., 0., 0., 0., 0., 0., 0.,\n",
       "        0., 0., 0., 0., 0., 0., 0., 0., 0., 0., 0., 0., 0., 0., 0., 0., 0.,\n",
       "        0., 0., 0., 0., 0., 0., 0., 0., 0., 0., 0., 0., 0., 0., 0., 0., 0.,\n",
       "        0., 0., 0., 0., 0., 0., 0., 0., 0., 0., 0., 0., 0., 0., 0., 0., 0.,\n",
       "        0., 0., 0., 0., 0., 0., 0., 0., 0., 0., 0., 0., 0., 0., 0., 0., 0.,\n",
       "        0., 0., 0., 0., 0., 0., 0., 0., 0., 0., 0., 0., 0., 0., 0., 0., 0.,\n",
       "        0., 0., 0., 0., 0., 0., 0., 0., 0., 0., 0., 0., 0., 0., 0., 0., 0.,\n",
       "        0., 0., 0., 0., 0., 0., 0., 0., 0., 0., 0., 0., 0., 0., 0., 0., 0.,\n",
       "        0., 0., 0., 0., 0., 0., 0., 0., 0., 0., 0., 0., 0., 0., 0., 0., 0.,\n",
       "        0., 0., 0., 0., 0., 0., 0., 0., 0., 0., 0., 0., 0., 0., 0., 0., 0.,\n",
       "        0., 0., 0., 0., 0., 0., 0., 0., 0., 0., 0., 0., 0., 0., 0., 0., 0.,\n",
       "        0., 0., 0., 0., 0., 0., 0., 0., 0., 0., 0., 0., 0., 0., 0., 0., 0.,\n",
       "        0., 0., 0., 0., 0., 0., 0., 0., 0., 0., 0., 0., 0., 0., 0., 0., 0.,\n",
       "        0., 0., 0., 0., 0., 0., 0., 0., 0., 0., 0., 0., 0., 0., 0., 0., 0.,\n",
       "        0., 0.], dtype=float32)>,\n",
       " <tf.Variable 'fc2_4/kernel:0' shape=(512, 6) dtype=float32, numpy=\n",
       " array([[-0.08675302, -0.0879662 ,  0.02592731, -0.10379278,  0.04081979,\n",
       "         -0.05723612],\n",
       "        [ 0.09887215,  0.04490753, -0.00704306, -0.04421651,  0.03403815,\n",
       "          0.08830918],\n",
       "        [ 0.04817601, -0.02139392,  0.06021   , -0.08792903,  0.10317083,\n",
       "          0.04106539],\n",
       "        ...,\n",
       "        [ 0.0494388 ,  0.08441895, -0.05145926, -0.06880896, -0.01006593,\n",
       "         -0.05671444],\n",
       "        [ 0.05347773, -0.0074275 , -0.07739417,  0.00460314,  0.01187842,\n",
       "         -0.06859194],\n",
       "        [ 0.00225166, -0.08267614, -0.022878  , -0.02804095, -0.06048561,\n",
       "         -0.04861846]], dtype=float32)>,\n",
       " <tf.Variable 'fc2_4/bias:0' shape=(6,) dtype=float32, numpy=array([0., 0., 0., 0., 0., 0.], dtype=float32)>]"
      ]
     },
     "execution_count": 246,
     "metadata": {},
     "output_type": "execute_result"
    }
   ],
   "source": [
    "model.trainable_variables"
   ]
  },
  {
   "cell_type": "code",
   "execution_count": 156,
   "metadata": {},
   "outputs": [
    {
     "data": {
      "text/plain": [
       "(0.03948760147695442, 0.03948760147695442)"
      ]
     },
     "execution_count": 156,
     "metadata": {},
     "output_type": "execute_result"
    }
   ],
   "source": [
    "np.average(batch_states[0]),np.average(batch_states[50])"
   ]
  },
  {
   "cell_type": "code",
   "execution_count": 243,
   "metadata": {},
   "outputs": [
    {
     "data": {
      "text/plain": [
       "1"
      ]
     },
     "execution_count": 243,
     "metadata": {},
     "output_type": "execute_result"
    }
   ],
   "source": [
    "100%11"
   ]
  },
  {
   "cell_type": "code",
   "execution_count": 138,
   "metadata": {},
   "outputs": [
    {
     "data": {
      "text/plain": [
       "64"
      ]
     },
     "execution_count": 138,
     "metadata": {},
     "output_type": "execute_result"
    }
   ],
   "source": [
    "len(batch_states)"
   ]
  },
  {
   "cell_type": "code",
   "execution_count": 139,
   "metadata": {},
   "outputs": [
    {
     "ename": "AttributeError",
     "evalue": "'list' object has no attribute 'shape'",
     "output_type": "error",
     "traceback": [
      "\u001b[0;31m\u001b[0m",
      "\u001b[0;31mAttributeError\u001b[0mTraceback (most recent call last)",
      "\u001b[0;32m<ipython-input-139-570543ad4770>\u001b[0m in \u001b[0;36m<module>\u001b[0;34m\u001b[0m\n\u001b[0;32m----> 1\u001b[0;31m \u001b[0mbatch_states\u001b[0m\u001b[0;34m.\u001b[0m\u001b[0mshape\u001b[0m\u001b[0;34m\u001b[0m\u001b[0;34m\u001b[0m\u001b[0m\n\u001b[0m",
      "\u001b[0;31mAttributeError\u001b[0m: 'list' object has no attribute 'shape'"
     ]
    }
   ],
   "source": [
    "batch_states.shape"
   ]
  },
  {
   "cell_type": "code",
   "execution_count": 61,
   "metadata": {},
   "outputs": [
    {
     "data": {
      "text/plain": [
       "(64, 110, 84, 4)"
      ]
     },
     "execution_count": 61,
     "metadata": {},
     "output_type": "execute_result"
    }
   ],
   "source": [
    "np.stack(batch_states,axis=0).shape"
   ]
  },
  {
   "cell_type": "code",
   "execution_count": 79,
   "metadata": {},
   "outputs": [
    {
     "data": {
      "text/plain": [
       "(64, 6)"
      ]
     },
     "execution_count": 79,
     "metadata": {},
     "output_type": "execute_result"
    }
   ],
   "source": [
    "model.predict(np.stack(batch_states,axis=0)).shape"
   ]
  },
  {
   "cell_type": "code",
   "execution_count": 82,
   "metadata": {},
   "outputs": [
    {
     "data": {
      "text/plain": [
       "array([2, 2, 2, 2, 2, 2, 2, 2, 2, 2, 2, 2, 2, 2, 2, 2, 2, 2, 2, 2, 2, 2,\n",
       "       2, 2, 2, 2, 2, 2, 2, 2, 2, 2, 2, 2, 2, 2, 2, 2, 2, 2, 2, 2, 2, 2,\n",
       "       2, 2, 2, 2, 2, 2, 2, 2, 2, 2, 2, 2, 2, 2, 2, 2, 2, 2, 2, 2])"
      ]
     },
     "execution_count": 82,
     "metadata": {},
     "output_type": "execute_result"
    }
   ],
   "source": [
    "np.argmax(model.predict(np.stack(batch_states,axis=0)),axis=1)"
   ]
  },
  {
   "cell_type": "code",
   "execution_count": null,
   "metadata": {},
   "outputs": [],
   "source": []
  },
  {
   "cell_type": "code",
   "execution_count": null,
   "metadata": {},
   "outputs": [],
   "source": []
  },
  {
   "cell_type": "code",
   "execution_count": null,
   "metadata": {},
   "outputs": [],
   "source": []
  },
  {
   "cell_type": "markdown",
   "metadata": {},
   "source": [
    "## Step 9: Test and Watch our Agent play 👀\n",
    "Now that we trained our agent, we can test it"
   ]
  },
  {
   "cell_type": "code",
   "execution_count": null,
   "metadata": {},
   "outputs": [],
   "source": []
  }
 ],
 "metadata": {
  "kernelspec": {
   "display_name": "Python 3",
   "language": "python",
   "name": "python3"
  },
  "language_info": {
   "codemirror_mode": {
    "name": "ipython",
    "version": 3
   },
   "file_extension": ".py",
   "mimetype": "text/x-python",
   "name": "python",
   "nbconvert_exporter": "python",
   "pygments_lexer": "ipython3",
   "version": "3.6.8"
  }
 },
 "nbformat": 4,
 "nbformat_minor": 4
}
